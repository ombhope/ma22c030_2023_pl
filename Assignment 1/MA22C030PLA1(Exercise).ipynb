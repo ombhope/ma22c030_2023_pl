{
  "nbformat": 4,
  "nbformat_minor": 0,
  "metadata": {
    "colab": {
      "provenance": [],
      "authorship_tag": "ABX9TyNispm5IXhCGMZdqA5rtRcv",
      "include_colab_link": true
    },
    "kernelspec": {
      "name": "python3",
      "display_name": "Python 3"
    },
    "language_info": {
      "name": "python"
    }
  },
  "cells": [
    {
      "cell_type": "markdown",
      "metadata": {
        "id": "view-in-github",
        "colab_type": "text"
      },
      "source": [
        "<a href=\"https://colab.research.google.com/github/ombhope/ma22c030_2023_pl/blob/main/Assignment%201/MA22C030PLA1(Exercise).ipynb\" target=\"_parent\"><img src=\"https://colab.research.google.com/assets/colab-badge.svg\" alt=\"Open In Colab\"/></a>"
      ]
    },
    {
      "cell_type": "code",
      "execution_count": 1,
      "metadata": {
        "colab": {
          "base_uri": "https://localhost:8080/"
        },
        "id": "lxj71Osswms9",
        "outputId": "a890e6a4-e7e6-4d9e-8b03-efb84cd165a9"
      },
      "outputs": [
        {
          "output_type": "stream",
          "name": "stdout",
          "text": [
            "Enter power3\n",
            "Enter a positive integer upto which you want the sum4\n",
            "100\n"
          ]
        }
      ],
      "source": [
        "n=int(input(\"Enter power\"))\n",
        "x=int(input(\"Enter a positive integer upto which you want the sum\"))\n",
        "sum=0\n",
        "for i in range (1, x+1):\n",
        "  y=i**n\n",
        "  sum=sum+y\n",
        "\n",
        "print(sum)"
      ]
    },
    {
      "cell_type": "code",
      "source": [],
      "metadata": {
        "id": "TNQ2tFN2wssZ"
      },
      "execution_count": null,
      "outputs": []
    }
  ]
}