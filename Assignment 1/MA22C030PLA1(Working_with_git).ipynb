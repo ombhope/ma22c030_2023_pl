{
  "nbformat": 4,
  "nbformat_minor": 0,
  "metadata": {
    "colab": {
      "provenance": [],
      "authorship_tag": "ABX9TyMFY1JA80brIXqJJj2CPi4U",
      "include_colab_link": true
    },
    "kernelspec": {
      "name": "python3",
      "display_name": "Python 3"
    },
    "language_info": {
      "name": "python"
    }
  },
  "cells": [
    {
      "cell_type": "markdown",
      "metadata": {
        "id": "view-in-github",
        "colab_type": "text"
      },
      "source": [
        "<a href=\"https://colab.research.google.com/github/ombhope/ma22c030_2023_pl/blob/main/Assignment%201/MA22C030PLA1(Working_with_git).ipynb\" target=\"_parent\"><img src=\"https://colab.research.google.com/assets/colab-badge.svg\" alt=\"Open In Colab\"/></a>"
      ]
    },
    {
      "cell_type": "code",
      "execution_count": 1,
      "metadata": {
        "colab": {
          "base_uri": "https://localhost:8080/"
        },
        "id": "YhJH_ajEN5Rz",
        "outputId": "4b834d6a-935b-4811-9457-1d9da6a7e8c3"
      },
      "outputs": [
        {
          "output_type": "stream",
          "name": "stdout",
          "text": [
            "Collecting gitpython\n",
            "  Downloading GitPython-3.1.40-py3-none-any.whl (190 kB)\n",
            "\u001b[2K     \u001b[90m━━━━━━━━━━━━━━━━━━━━━━━━━━━━━━━━━━━━━━━━\u001b[0m \u001b[32m190.6/190.6 kB\u001b[0m \u001b[31m2.4 MB/s\u001b[0m eta \u001b[36m0:00:00\u001b[0m\n",
            "\u001b[?25hCollecting gitdb<5,>=4.0.1 (from gitpython)\n",
            "  Downloading gitdb-4.0.11-py3-none-any.whl (62 kB)\n",
            "\u001b[2K     \u001b[90m━━━━━━━━━━━━━━━━━━━━━━━━━━━━━━━━━━━━━━━━\u001b[0m \u001b[32m62.7/62.7 kB\u001b[0m \u001b[31m6.7 MB/s\u001b[0m eta \u001b[36m0:00:00\u001b[0m\n",
            "\u001b[?25hCollecting smmap<6,>=3.0.1 (from gitdb<5,>=4.0.1->gitpython)\n",
            "  Downloading smmap-5.0.1-py3-none-any.whl (24 kB)\n",
            "Installing collected packages: smmap, gitdb, gitpython\n",
            "Successfully installed gitdb-4.0.11 gitpython-3.1.40 smmap-5.0.1\n"
          ]
        }
      ],
      "source": [
        "pip install gitpython"
      ]
    },
    {
      "cell_type": "code",
      "source": [
        "from git import Repo"
      ],
      "metadata": {
        "id": "XyjA60i3PQzG"
      },
      "execution_count": 2,
      "outputs": []
    },
    {
      "cell_type": "code",
      "source": [
        "help(Repo.clone_from)"
      ],
      "metadata": {
        "colab": {
          "base_uri": "https://localhost:8080/"
        },
        "id": "8QO2JOr0PSjZ",
        "outputId": "a292f9e3-ab3b-4190-d5d3-02d4276eeff0"
      },
      "execution_count": 3,
      "outputs": [
        {
          "output_type": "stream",
          "name": "stdout",
          "text": [
            "Help on method clone_from in module git.repo.base:\n",
            "\n",
            "clone_from(url: 'PathLike', to_path: 'PathLike', progress: 'CallableProgress' = None, env: 'Optional[Mapping[str, str]]' = None, multi_options: 'Optional[List[str]]' = None, allow_unsafe_protocols: 'bool' = False, allow_unsafe_options: 'bool' = False, **kwargs: 'Any') -> \"'Repo'\" method of builtins.type instance\n",
            "    Create a clone from the given URL\n",
            "    \n",
            "    :param url: valid git url, see http://www.kernel.org/pub/software/scm/git/docs/git-clone.html#URLS\n",
            "    :param to_path: Path to which the repository should be cloned to\n",
            "    :param progress: See 'git.remote.Remote.push'.\n",
            "    :param env: Optional dictionary containing the desired environment variables.\n",
            "        Note: Provided variables will be used to update the execution\n",
            "        environment for `git`. If some variable is not specified in `env`\n",
            "        and is defined in `os.environ`, value from `os.environ` will be used.\n",
            "        If you want to unset some variable, consider providing empty string\n",
            "        as its value.\n",
            "    :param multi_options: See ``clone`` method\n",
            "    :param allow_unsafe_protocols: Allow unsafe protocols to be used, like ext\n",
            "    :param allow_unsafe_options: Allow unsafe options to be used, like --upload-pack\n",
            "    :param kwargs: see the ``clone`` method\n",
            "    :return: Repo instance pointing to the cloned directory\n",
            "\n"
          ]
        }
      ]
    },
    {
      "cell_type": "code",
      "source": [
        "help(Repo.__init__)"
      ],
      "metadata": {
        "colab": {
          "base_uri": "https://localhost:8080/"
        },
        "id": "6v9v58lBPUWG",
        "outputId": "8a87d839-238f-454a-db23-3076c9d3cb56"
      },
      "execution_count": 4,
      "outputs": [
        {
          "output_type": "stream",
          "name": "stdout",
          "text": [
            "Help on function __init__ in module git.repo.base:\n",
            "\n",
            "__init__(self, path: 'Optional[PathLike]' = None, odbt: 'Type[LooseObjectDB]' = <class 'git.db.GitCmdObjectDB'>, search_parent_directories: 'bool' = False, expand_vars: 'bool' = True) -> 'None'\n",
            "    Create a new Repo instance\n",
            "    \n",
            "    :param path:\n",
            "        the path to either the root git directory or the bare git repo::\n",
            "    \n",
            "            repo = Repo(\"/Users/mtrier/Development/git-python\")\n",
            "            repo = Repo(\"/Users/mtrier/Development/git-python.git\")\n",
            "            repo = Repo(\"~/Development/git-python.git\")\n",
            "            repo = Repo(\"$REPOSITORIES/Development/git-python.git\")\n",
            "            repo = Repo(\"C:\\Users\\mtrier\\Development\\git-python\\.git\")\n",
            "    \n",
            "        - In *Cygwin*, path may be a `'cygdrive/...'` prefixed path.\n",
            "        - If it evaluates to false, :envvar:`GIT_DIR` is used, and if this also evals to false,\n",
            "          the current-directory is used.\n",
            "    :param odbt:\n",
            "        Object DataBase type - a type which is constructed by providing\n",
            "        the directory containing the database objects, i.e. .git/objects. It will\n",
            "        be used to access all object data\n",
            "    :param search_parent_directories:\n",
            "        if True, all parent directories will be searched for a valid repo as well.\n",
            "    \n",
            "        Please note that this was the default behaviour in older versions of GitPython,\n",
            "        which is considered a bug though.\n",
            "    :raise InvalidGitRepositoryError:\n",
            "    :raise NoSuchPathError:\n",
            "    :return: git.Repo\n",
            "\n"
          ]
        }
      ]
    },
    {
      "cell_type": "code",
      "source": [
        "coursefolder = '/Users/Jay/tmpdir/'"
      ],
      "metadata": {
        "id": "cAFWsmtHPW2y"
      },
      "execution_count": 5,
      "outputs": []
    },
    {
      "cell_type": "code",
      "source": [
        "import os\n",
        "os.path.abspath(coursefolder)"
      ],
      "metadata": {
        "colab": {
          "base_uri": "https://localhost:8080/",
          "height": 35
        },
        "id": "dJYVSlSYPnuV",
        "outputId": "92c7ea5b-7d69-44b3-da4a-3106477bfcbe"
      },
      "execution_count": 7,
      "outputs": [
        {
          "output_type": "execute_result",
          "data": {
            "text/plain": [
              "'/Users/Jay/tmpdir'"
            ],
            "application/vnd.google.colaboratory.intrinsic+json": {
              "type": "string"
            }
          },
          "metadata": {},
          "execution_count": 7
        }
      ]
    },
    {
      "cell_type": "code",
      "source": [
        "repodir = os.path.join(os.path.abspath(coursefolder), 'mth271content')\n",
        "repodir"
      ],
      "metadata": {
        "colab": {
          "base_uri": "https://localhost:8080/",
          "height": 35
        },
        "id": "CfioDrwbPp7y",
        "outputId": "5ec328b5-5bac-4233-d42c-60d10dce3bf0"
      },
      "execution_count": 8,
      "outputs": [
        {
          "output_type": "execute_result",
          "data": {
            "text/plain": [
              "'/Users/Jay/tmpdir/mth271content'"
            ],
            "application/vnd.google.colaboratory.intrinsic+json": {
              "type": "string"
            }
          },
          "metadata": {},
          "execution_count": 8
        }
      ]
    },
    {
      "cell_type": "code",
      "source": [
        "os.path.isdir(repodir)"
      ],
      "metadata": {
        "colab": {
          "base_uri": "https://localhost:8080/"
        },
        "id": "kbMO9bj7PtQM",
        "outputId": "431247fc-5da5-4b7d-e1ed-84ebe2b4dfc6"
      },
      "execution_count": 9,
      "outputs": [
        {
          "output_type": "execute_result",
          "data": {
            "text/plain": [
              "False"
            ]
          },
          "metadata": {},
          "execution_count": 9
        }
      ]
    },
    {
      "cell_type": "code",
      "source": [
        "if os.path.isdir(repodir): # if repo exists, pull newest data\n",
        "  repo = Repo(repodir)\n",
        "  repo.remotes.origin.pull()\n",
        "else: # otherwise, clone from remote\n",
        "  repo = Repo.clone_from('https://github.com/jayggg/mth271content',repodir)"
      ],
      "metadata": {
        "id": "J8v7KZy5Pu0E"
      },
      "execution_count": 10,
      "outputs": []
    },
    {
      "cell_type": "code",
      "source": [
        "repo.working_dir\n"
      ],
      "metadata": {
        "colab": {
          "base_uri": "https://localhost:8080/",
          "height": 35
        },
        "id": "_AFcb4C_PxQy",
        "outputId": "52235a73-8118-43af-ad52-204a266c5e9c"
      },
      "execution_count": 11,
      "outputs": [
        {
          "output_type": "execute_result",
          "data": {
            "text/plain": [
              "'/Users/Jay/tmpdir/mth271content'"
            ],
            "application/vnd.google.colaboratory.intrinsic+json": {
              "type": "string"
            }
          },
          "metadata": {},
          "execution_count": 11
        }
      ]
    },
    {
      "cell_type": "code",
      "source": [],
      "metadata": {
        "id": "QV9dUnOMPzeS"
      },
      "execution_count": null,
      "outputs": []
    }
  ]
}