{
  "nbformat": 4,
  "nbformat_minor": 0,
  "metadata": {
    "colab": {
      "provenance": []
    },
    "kernelspec": {
      "name": "python3",
      "display_name": "Python 3"
    },
    "language_info": {
      "name": "python"
    }
  },
  "cells": [
    {
      "cell_type": "code",
      "source": [
        "!pip install celluloid\n",
        "import numpy as np\n",
        "import matplotlib.pyplot as plt\n",
        "from celluloid import Camera\n",
        "\n",
        "# Define the function f(x, t) that changes over time\n",
        "def f(x, t):\n",
        "  return (x + t)**2 * 0.5 + 2 * np.sin(10 * (x - t))\n",
        "\n",
        "# Create the initial plot\n",
        "x = np.linspace(0, 2 * np.pi, 1000)\n",
        "fig, ax = plt.subplots()\n",
        "time_text = ax.text(0.8, 0.9, '', transform=ax.transAxes, fontsize=12, color='red')\n",
        "\n",
        "camera = Camera(fig)\n",
        "\n",
        "# Generate animation frames\n",
        "for i, t in enumerate(np.linspace(0, 2 * np.pi, 200)):\n",
        "  y = f(x, t)\n",
        "  ax.plot(x, y, label=f'time {t:.2f}')\n",
        "  time_text.set_text(f'Time: {t:.2f}')\n",
        "  ax.legend()\n",
        "  camera.snap()\n",
        "\n",
        "# Create the animation\n",
        "animation = camera.animate()\n",
        "\n",
        "# Show the animation\n",
        "animation.save('animation.mp4')"
      ],
      "metadata": {
        "colab": {
          "base_uri": "https://localhost:8080/",
          "height": 638
        },
        "id": "L24gPNvEo98Y",
        "outputId": "8b58b8e6-991f-4e73-82a4-da30473133a2"
      },
      "execution_count": 3,
      "outputs": [
        {
          "output_type": "stream",
          "name": "stdout",
          "text": [
            "Requirement already satisfied: celluloid in /usr/local/lib/python3.10/dist-packages (0.2.0)\n",
            "Requirement already satisfied: matplotlib in /usr/local/lib/python3.10/dist-packages (from celluloid) (3.7.1)\n",
            "Requirement already satisfied: contourpy>=1.0.1 in /usr/local/lib/python3.10/dist-packages (from matplotlib->celluloid) (1.2.0)\n",
            "Requirement already satisfied: cycler>=0.10 in /usr/local/lib/python3.10/dist-packages (from matplotlib->celluloid) (0.12.1)\n",
            "Requirement already satisfied: fonttools>=4.22.0 in /usr/local/lib/python3.10/dist-packages (from matplotlib->celluloid) (4.47.0)\n",
            "Requirement already satisfied: kiwisolver>=1.0.1 in /usr/local/lib/python3.10/dist-packages (from matplotlib->celluloid) (1.4.5)\n",
            "Requirement already satisfied: numpy>=1.20 in /usr/local/lib/python3.10/dist-packages (from matplotlib->celluloid) (1.23.5)\n",
            "Requirement already satisfied: packaging>=20.0 in /usr/local/lib/python3.10/dist-packages (from matplotlib->celluloid) (23.2)\n",
            "Requirement already satisfied: pillow>=6.2.0 in /usr/local/lib/python3.10/dist-packages (from matplotlib->celluloid) (9.4.0)\n",
            "Requirement already satisfied: pyparsing>=2.3.1 in /usr/local/lib/python3.10/dist-packages (from matplotlib->celluloid) (3.1.1)\n",
            "Requirement already satisfied: python-dateutil>=2.7 in /usr/local/lib/python3.10/dist-packages (from matplotlib->celluloid) (2.8.2)\n",
            "Requirement already satisfied: six>=1.5 in /usr/local/lib/python3.10/dist-packages (from python-dateutil>=2.7->matplotlib->celluloid) (1.16.0)\n"
          ]
        },
        {
          "output_type": "display_data",
          "data": {
            "text/plain": [
              "<Figure size 640x480 with 1 Axes>"
            ],
            "image/png": "[encoded data removed]"
          },
          "metadata": {}
        }
      ]
    }
  ]
}