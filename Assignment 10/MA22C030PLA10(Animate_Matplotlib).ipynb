{
  "nbformat": 4,
  "nbformat_minor": 0,
  "metadata": {
    "colab": {
      "provenance": []
    },
    "kernelspec": {
      "name": "python3",
      "display_name": "Python 3"
    },
    "language_info": {
      "name": "python"
    }
  },
  "cells": [
    {
      "cell_type": "code",
      "source": [
        "import numpy as np\n",
        "import matplotlib.pyplot as plt\n",
        "from matplotlib.animation import FuncAnimation\n",
        "\n",
        "# Define the function f(x, t) that changes over time\n",
        "def f(x, t):\n",
        "    return (x + t)**2 * 0.5 + 2 * np.sin(10 * (x - t))  # Example function\n",
        "\n",
        "# Create the initial plot\n",
        "x = np.linspace(0, 2 * np.pi, 1000)\n",
        "fig, ax = plt.subplots()\n",
        "line, = ax.plot(x, f(x, 0))\n",
        "time_text = ax.text(0.8, 0.9, '', transform=ax.transAxes, fontsize=12, color='red')\n",
        "\n",
        "# Function to update the plot with respect to time\n",
        "def update(t):\n",
        "  line.set_ydata(f(x, t))\n",
        "  time_text.set_text(f'Time: {t:.2f}')\n",
        "  return line, time_text\n",
        "\n",
        "# Create the animation\n",
        "ani = FuncAnimation(fig, update, frames=np.linspace(0, 2 * np.pi, 200), blit=True)\n",
        "\n",
        "# Save the animation as an MP4 file\n",
        "ani.save('animation.mp4', fps=30)\n",
        "\n",
        "# Show the animation\n",
        "plt.show()"
      ],
      "metadata": {
        "colab": {
          "base_uri": "https://localhost:8080/",
          "height": 430
        },
        "id": "Ics7pjiLpunO",
        "outputId": "f9be9df2-0b57-4f6e-8d86-e67fa557d644"
      },
      "execution_count": 5,
      "outputs": [
        {
          "output_type": "display_data",
          "data": {
            "text/plain": [
              "<Figure size 640x480 with 1 Axes>"
            ],
            "image/png": "[encoded data removed]"
          },
          "metadata": {}
        }
      ]
    }
  ]
}