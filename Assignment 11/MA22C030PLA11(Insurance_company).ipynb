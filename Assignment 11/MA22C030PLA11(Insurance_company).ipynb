{
  "nbformat": 4,
  "nbformat_minor": 0,
  "metadata": {
    "colab": {
      "provenance": [],
      "authorship_tag": "ABX9TyNJYpfpnPzlL8ozmoywSvNO",
      "include_colab_link": true
    },
    "kernelspec": {
      "name": "python3",
      "display_name": "Python 3"
    },
    "language_info": {
      "name": "python"
    }
  },
  "cells": [
    {
      "cell_type": "markdown",
      "metadata": {
        "id": "view-in-github",
        "colab_type": "text"
      },
      "source": [
        "<a href=\"https://colab.research.google.com/github/ombhope/ma22c030_2023_pl/blob/main/Assignment%2011/MA22C030PLA11(Insurance_company).ipynb\" target=\"_parent\"><img src=\"https://colab.research.google.com/assets/colab-badge.svg\" alt=\"Open In Colab\"/></a>"
      ]
    },
    {
      "cell_type": "code",
      "execution_count": 27,
      "metadata": {
        "id": "Ygp7WNKqlvaa"
      },
      "outputs": [],
      "source": [
        "from random import uniform\n",
        "import numpy as np\n",
        "\n"
      ]
    },
    {
      "cell_type": "code",
      "source": [
        "def calculate_insurance_ruin_probability(initial_capital=1000, probability_of_loss=0.46, target_winning_amount=100):\n",
        "    P = np.zeros(initial_capital + 1)\n",
        "    P[0] = 1\n",
        "    for i in range(1, initial_capital + 1):\n",
        "        P[i] = (1 - probability_of_loss) * P[min(i + target_winning_amount, initial_capital)] + \\\n",
        "               probability_of_loss * P[max(i - 2 * target_winning_amount, 0)]\n",
        "    return P[initial_capital]\n",
        "\n",
        "\n"
      ],
      "metadata": {
        "id": "hSUhuoOqlweo"
      },
      "execution_count": 28,
      "outputs": []
    },
    {
      "cell_type": "code",
      "source": [
        "print(f\"Probability of ruin: {calculate_insurance_ruin_probability():.5f}\")\n",
        "\n"
      ],
      "metadata": {
        "colab": {
          "base_uri": "https://localhost:8080/"
        },
        "id": "Q__bj-gEl2Gv",
        "outputId": "2b62c8b5-c453-4d98-d140-59c4d5d789c9"
      },
      "execution_count": 29,
      "outputs": [
        {
          "output_type": "stream",
          "name": "stdout",
          "text": [
            "Probability of ruin: 0.02060\n"
          ]
        }
      ]
    },
    {
      "cell_type": "code",
      "source": [
        "calculate_insurance_ruin_probability(initial_capital=1590)\n",
        "\n"
      ],
      "metadata": {
        "colab": {
          "base_uri": "https://localhost:8080/"
        },
        "id": "DtVNIf3Nl9GP",
        "outputId": "9d00d90b-ef0c-4d74-f3b4-d13aee0f5680"
      },
      "execution_count": 30,
      "outputs": [
        {
          "output_type": "execute_result",
          "data": {
            "text/plain": [
              "0.0020047612231936006"
            ]
          },
          "metadata": {},
          "execution_count": 30
        }
      ]
    },
    {
      "cell_type": "code",
      "source": [
        "capital = 1590\n",
        "while calculate_insurance_ruin_probability(initial_capital=capital) > 0.001:\n",
        "    capital += 1\n",
        "print(f\"Minimum capital required for making probability of ruin < 0.1%: {capital}\")\n",
        "\n"
      ],
      "metadata": {
        "colab": {
          "base_uri": "https://localhost:8080/"
        },
        "id": "HvwzGrnsl--u",
        "outputId": "6eb6f39c-d9a2-4084-ae4c-4b675b43be3c"
      },
      "execution_count": 31,
      "outputs": [
        {
          "output_type": "stream",
          "name": "stdout",
          "text": [
            "Minimum capital required for making probability of ruin < 0.1%: 1601\n"
          ]
        }
      ]
    },
    {
      "cell_type": "code",
      "source": [
        "calculate_insurance_ruin_probability(initial_capital=1600)"
      ],
      "metadata": {
        "colab": {
          "base_uri": "https://localhost:8080/"
        },
        "id": "NJFGVrx1mCNk",
        "outputId": "76918eb3-35f6-439f-da8f-57fe8db60579"
      },
      "execution_count": 32,
      "outputs": [
        {
          "output_type": "execute_result",
          "data": {
            "text/plain": [
              "0.0020047612231936006"
            ]
          },
          "metadata": {},
          "execution_count": 32
        }
      ]
    },
    {
      "cell_type": "code",
      "source": [],
      "metadata": {
        "id": "xj5IPdtcmDiX"
      },
      "execution_count": 32,
      "outputs": []
    }
  ]
}