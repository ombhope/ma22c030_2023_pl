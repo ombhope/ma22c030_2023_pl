{
  "nbformat": 4,
  "nbformat_minor": 0,
  "metadata": {
    "colab": {
      "provenance": [],
      "authorship_tag": "ABX9TyOLKBEW5GD9H5tvPAvoypB7",
      "include_colab_link": true
    },
    "kernelspec": {
      "name": "python3",
      "display_name": "Python 3"
    },
    "language_info": {
      "name": "python"
    }
  },
  "cells": [
    {
      "cell_type": "markdown",
      "metadata": {
        "id": "view-in-github",
        "colab_type": "text"
      },
      "source": [
        "<a href=\"https://colab.research.google.com/github/ombhope/ma22c030_2023_pl/blob/main/Assignment%2011/MA22C030PLA11(Probabilities_on_small_graphs).ipynb\" target=\"_parent\"><img src=\"https://colab.research.google.com/assets/colab-badge.svg\" alt=\"Open In Colab\"/></a>"
      ]
    },
    {
      "cell_type": "code",
      "execution_count": 47,
      "metadata": {
        "id": "fz3V4fEOMldE"
      },
      "outputs": [],
      "source": [
        "import numpy as np\n",
        "\n"
      ]
    },
    {
      "cell_type": "code",
      "source": [
        "# Define the transition probability matrix Q for the given Markov chain\n",
        "Q = np.array([[0, 0.0, 0.5, 0.5],  # S0\n",
        "              [1.0, 0.0, 0.0, 0.0],  # S1\n",
        "              [0.0, 0.0, 0.0, 1.0],  # S2\n",
        "              [0, 1.0, 0.0, 0.0]])  # S3\n",
        "\n",
        "initial_state_alt = 3\n",
        "\n",
        "target_states_alt = [0, 1, 2]\n",
        "\n"
      ],
      "metadata": {
        "id": "uTZc3mNOOD_8"
      },
      "execution_count": 48,
      "outputs": []
    },
    {
      "cell_type": "code",
      "source": [
        "# Create a function to calculate the probability of reaching the target_states from the initial_state_alt\n",
        "def calculate_probability_to_reach_states(Q, initial_state_alt, target_states_alt, steps_alt):\n",
        "    Q_n = np.linalg.matrix_power(Q, steps_alt)\n",
        "    probabilities_alt = [Q_n[initial_state_alt, target_state_alt] for target_state_alt in target_states_alt]\n",
        "    return probabilities_alt\n",
        "\n",
        "probabilities_alt = calculate_probability_to_reach_states(Q, initial_state_alt, target_states_alt, steps_alt=100)  # You can choose a large number of steps\n",
        "\n"
      ],
      "metadata": {
        "id": "Q26EczkEOH6R"
      },
      "execution_count": 49,
      "outputs": []
    },
    {
      "cell_type": "code",
      "source": [
        "# Print the probabilities for each target state_alt\n",
        "for i, target_state_alt in enumerate(target_states_alt):\n",
        "    print(f\"Probability of hitting state {target_state_alt} from state {initial_state_alt}: {probabilities_alt[i]:.4f}\")\n",
        "\n"
      ],
      "metadata": {
        "colab": {
          "base_uri": "https://localhost:8080/"
        },
        "id": "q6N0O1IzOMym",
        "outputId": "716f6ded-1fde-4fcd-f9a5-63fb807d5486"
      },
      "execution_count": 50,
      "outputs": [
        {
          "output_type": "stream",
          "name": "stdout",
          "text": [
            "Probability of hitting state 0 from state 3: 0.2857\n",
            "Probability of hitting state 1 from state 3: 0.2857\n",
            "Probability of hitting state 2 from state 3: 0.1429\n"
          ]
        }
      ]
    },
    {
      "cell_type": "code",
      "source": [
        "# Define the set of initial states_alt\n",
        "initial_states_alt = [0, 1, 2]\n",
        "\n",
        "# Define the target state_alt\n",
        "final_state_alt = 3\n",
        "\n"
      ],
      "metadata": {
        "id": "YVBSU-d6OSKt"
      },
      "execution_count": 51,
      "outputs": []
    },
    {
      "cell_type": "code",
      "source": [
        "# Print the probabilities for each initial state_alt\n",
        "for i, initial_state_alt in enumerate(initial_states_alt):\n",
        "    print(f\"Probability of hitting state {final_state_alt} starting from state {initial_state_alt}: {probabilities_alt[i]:.4f}\")\n",
        "\n"
      ],
      "metadata": {
        "colab": {
          "base_uri": "https://localhost:8080/"
        },
        "id": "ImdPzP56OWN2",
        "outputId": "7de4d752-315b-4e4f-bc9d-22132e36053f"
      },
      "execution_count": 52,
      "outputs": [
        {
          "output_type": "stream",
          "name": "stdout",
          "text": [
            "Probability of hitting state 3 starting from state 0: 0.2857\n",
            "Probability of hitting state 3 starting from state 1: 0.2857\n",
            "Probability of hitting state 3 starting from state 2: 0.1429\n"
          ]
        }
      ]
    },
    {
      "cell_type": "code",
      "source": [
        "# Check if any state_alt can reach an absorbing state_alt\n",
        "absorbing_states_alt = [1, 3]\n",
        "\n",
        "for state_alt in range(len(Q)):\n",
        "    can_reach_absorbing_alt = any(Q[state_alt, absorbing_states_alt] > 0)\n",
        "    if can_reach_absorbing_alt:\n",
        "        print(f\"State {state_alt} can reach an absorbing state.\")\n",
        "    else:\n",
        "        print(f\"State {state_alt} cannot reach an absorbing state.\")\n",
        "\n"
      ],
      "metadata": {
        "colab": {
          "base_uri": "https://localhost:8080/"
        },
        "id": "KrRSXd9qOcmt",
        "outputId": "203aef9d-925b-4e7f-b9ac-872097f7598b"
      },
      "execution_count": 53,
      "outputs": [
        {
          "output_type": "stream",
          "name": "stdout",
          "text": [
            "State 0 can reach an absorbing state.\n",
            "State 1 cannot reach an absorbing state.\n",
            "State 2 can reach an absorbing state.\n",
            "State 3 can reach an absorbing state.\n"
          ]
        }
      ]
    },
    {
      "cell_type": "code",
      "source": [
        "# Method 2: Eigenvector Approach\n",
        "eigenvalues_alt, eigenvectors_alt = np.linalg.eig(Q.T)\n",
        "\n",
        "# Check if there is an eigenvalue of 1\n",
        "for i, eigenvalue_alt in enumerate(eigenvalues_alt):\n",
        "    if np.isclose(eigenvalue_alt, 1.0):\n",
        "        eigenvector_alt = eigenvectors_alt[:, i]\n",
        "        if all(eigenvector_alt[absorbing_states_alt] == 1) and all(eigenvector_alt[~np.isin(range(len(Q)), absorbing_states_alt)] == 0):\n",
        "            print(\"The Markov chain is absorbing.\")\n",
        "        else:\n",
        "            print(\"The Markov chain is not absorbing.\")\n",
        "\n",
        "# Ensure all states_alt can communicate with each other\n",
        "# Add transitions from S0 to S1 and from S2 to S3\n",
        "Q[0, 1] = 0.5\n",
        "Q[2, 3] = 0.5"
      ],
      "metadata": {
        "colab": {
          "base_uri": "https://localhost:8080/"
        },
        "id": "_J-vXs2vOooo",
        "outputId": "4fa5386d-8c06-446f-c180-0ed69c951f77"
      },
      "execution_count": 54,
      "outputs": [
        {
          "output_type": "stream",
          "name": "stdout",
          "text": [
            "The Markov chain is not absorbing.\n"
          ]
        }
      ]
    },
    {
      "cell_type": "code",
      "source": [
        "# Define the set of states_alt A = {0, 1, 2}\n",
        "A_alt = [0, 1, 2]\n",
        "\n",
        "# Calculate the fundamental matrix N_alt\n",
        "I_alt = np.identity(len(Q))\n",
        "N_alt = np.linalg.inv(I_alt - Q)\n",
        "\n",
        "# Calculate the hitting probabilities of states_alt in A_alt from the remaining states_alt\n",
        "hitting_probabilities_alt = np.zeros(len(Q))\n",
        "\n",
        "for state_alt in range(len(Q)):\n",
        "    if state_alt not in A_alt:\n",
        "        hitting_probabilities_alt[A_alt] += N_alt[state_alt, A_alt]\n",
        "\n"
      ],
      "metadata": {
        "id": "ami-YO3ROugt"
      },
      "execution_count": 55,
      "outputs": []
    },
    {
      "cell_type": "code",
      "source": [
        "# Print the hitting probabilities_alt\n",
        "for i, state_alt in enumerate(A_alt):\n",
        "    print(f\"Hitting probability of state {state_alt} from the remaining states_alt: {hitting_probabilities_alt[i]:.4f}\")\n",
        "\n"
      ],
      "metadata": {
        "colab": {
          "base_uri": "https://localhost:8080/"
        },
        "id": "n6vFzU6wO9Qm",
        "outputId": "7c966e83-0fd2-4a1d-9d65-aab3e2ce84b5"
      },
      "execution_count": 56,
      "outputs": [
        {
          "output_type": "stream",
          "name": "stdout",
          "text": [
            "Hitting probability of state 0 from the remaining states_alt: -4.0000\n",
            "Hitting probability of state 1 from the remaining states_alt: -4.0000\n",
            "Hitting probability of state 2 from the remaining states_alt: -2.0000\n"
          ]
        }
      ]
    },
    {
      "cell_type": "code",
      "source": [
        "# Ensure all states_alt can communicate with each other\n",
        "# Add transitions from S0 to S1 and from S2 to S3\n",
        "Q[0, 1] = 0.5\n",
        "Q[2, 3] = 0.5\n",
        "\n",
        "# Define the set of states_alt A_alt = {3}\n",
        "A_alt = [3]\n",
        "\n",
        "# Calculate the fundamental matrix N_alt\n",
        "I_alt = np.identity(len(Q))\n",
        "N_alt = np.linalg.inv(I_alt - Q)\n",
        "\n",
        "# Calculate the hitting probabilities_alt of state 3 from the remaining states_alt\n",
        "hitting_probabilities_alt = np.zeros(len(A_alt))\n",
        "\n",
        "for state_alt in A_alt:\n",
        "    for other_state_alt in range(len(Q)):\n",
        "        if other_state_alt not in A_alt:\n",
        "            hitting_probabilities_alt[A_alt.index(state_alt)] += N_alt[other_state_alt, state_alt]\n",
        "\n",
        "# Print the hitting probabilities_alt\n",
        "# print(f\"Hitting probability_alt of state 3 from the remaining states_alt: {hitting_probabilities_alt[0]:.4f}\")\n"
      ],
      "metadata": {
        "id": "-Yzz1-C_O_34"
      },
      "execution_count": 57,
      "outputs": []
    },
    {
      "cell_type": "code",
      "source": [],
      "metadata": {
        "id": "LB9P2QyyPBpu"
      },
      "execution_count": 57,
      "outputs": []
    }
  ]
}