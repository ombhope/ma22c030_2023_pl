{
  "nbformat": 4,
  "nbformat_minor": 0,
  "metadata": {
    "colab": {
      "provenance": [],
      "authorship_tag": "ABX9TyOuegogbt9rkeaozQk0Af7y",
      "include_colab_link": true
    },
    "kernelspec": {
      "name": "python3",
      "display_name": "Python 3"
    },
    "language_info": {
      "name": "python"
    }
  },
  "cells": [
    {
      "cell_type": "markdown",
      "metadata": {
        "id": "view-in-github",
        "colab_type": "text"
      },
      "source": [
        "<a href=\"https://colab.research.google.com/github/ombhope/ma22c030_2023_pl/blob/main/Assignment%2012/MA22C030PLA12(Google's_toy_graph).ipynb\" target=\"_parent\"><img src=\"https://colab.research.google.com/assets/colab-badge.svg\" alt=\"Open In Colab\"/></a>"
      ]
    },
    {
      "cell_type": "code",
      "execution_count": 21,
      "metadata": {
        "id": "zfm3rFoScnSC"
      },
      "outputs": [],
      "source": [
        "import os\n",
        "import urllib.request\n",
        "import shutil\n",
        "import numpy as np\n",
        "import gzip\n",
        "\n",
        "# The file is located here:\n",
        "graph_url = \"https://snap.stanford.edu/data/web-Google.txt.gz\"\n",
        "\n",
        "# Download and copy it here using the code below:\n",
        "graph_filename = 'web-Google.txt.gz'"
      ]
    },
    {
      "cell_type": "code",
      "source": [
        "# The file is located here:\n",
        "url = \"https://snap.stanford.edu/data/web-Google.txt.gz\""
      ],
      "metadata": {
        "id": "7mhwwQdicoAO"
      },
      "execution_count": 22,
      "outputs": []
    },
    {
      "cell_type": "code",
      "source": [
        "# Download and copy it here using the code below:\n",
        "f= 'web-Google.txt.gz'\n",
        "\n",
        "if not os.path.exists(f):\n",
        "    r = urllib.request.urlopen(url)\n",
        "    with open(f, 'wb') as fo:\n",
        "        shutil.copyfileobj(r, fo)\n"
      ],
      "metadata": {
        "id": "5z2xbtaejHhu"
      },
      "execution_count": 23,
      "outputs": []
    },
    {
      "cell_type": "code",
      "source": [
        "import gzip"
      ],
      "metadata": {
        "id": "N_mbKvHVjK7p"
      },
      "execution_count": 24,
      "outputs": []
    },
    {
      "cell_type": "code",
      "source": [
        "# Load the graph data from the file\n",
        "def load_Gdata(filename):\n",
        "    # Initialize an empty dictionary to represent the graph\n",
        "    graph = {}\n",
        "\n",
        "    # Open the gzip-compressed file for reading\n",
        "    with gzip.open(filename, 'rt') as file:\n",
        "        # Iterate through each line in the file\n",
        "        for line in file:\n",
        "            # Skip lines starting with \"#\"\n",
        "            if line.startswith(\"#\"):\n",
        "                continue\n",
        "            else:\n",
        "                # Split the line into parts and convert them to integers\n",
        "                parts = line.strip().split()\n",
        "                source, target = int(parts[0]), int(parts[1])\n",
        "\n",
        "                # If the source is not in the graph, add it with an empty list\n",
        "                if source not in graph:\n",
        "                    graph[source] = []\n",
        "\n",
        "                # Append the target to the source's list in the graph\n",
        "                graph[source].append(target)\n",
        "\n",
        "    # Return the constructed graph\n",
        "    return graph"
      ],
      "metadata": {
        "id": "OArSWy2IjOfI"
      },
      "execution_count": 25,
      "outputs": []
    },
    {
      "cell_type": "code",
      "source": [
        "graph = load_Gdata(f)"
      ],
      "metadata": {
        "id": "ieWopF5pjQil"
      },
      "execution_count": 26,
      "outputs": []
    },
    {
      "cell_type": "code",
      "source": [
        "# Initialize PageRank values for all vertices\n",
        "num_vertices = len(graph)\n",
        "pagerank = np.ones(num_vertices) / num_vertices"
      ],
      "metadata": {
        "id": "4U7TuQ58jSLw"
      },
      "execution_count": 27,
      "outputs": []
    },
    {
      "cell_type": "code",
      "source": [
        "# Implement the power iteration method to compute PageRank\n",
        "def power_iteration(graph, damping_factor=0.85, num_iterations=100):\n",
        "    # Get the number of vertices in the graph\n",
        "    num_vertices = len(graph)\n",
        "\n",
        "    # Initialize the pagerank vector with equal probabilities for each vertex\n",
        "    initial_pagerank = np.ones(num_vertices) / num_vertices\n",
        "\n",
        "    # Perform power iteration for a specified number of iterations\n",
        "    for _ in range(num_iterations):\n",
        "        # Initialize a new pagerank vector\n",
        "        new_pagerank = np.zeros(num_vertices)\n",
        "\n",
        "        # Update pageranks based on the graph structure\n",
        "        for vertex in graph:\n",
        "            num_neighbors = len(graph[vertex])\n",
        "            if num_neighbors == 0:\n",
        "                new_pagerank += damping_factor * initial_pagerank[vertex] / num_vertices\n",
        "            else:\n",
        "                for neighbor in graph[vertex]:\n",
        "                    new_pagerank[neighbor] += damping_factor * initial_pagerank[vertex] / num_neighbors\n",
        "\n",
        "        # Apply damping factor and add the teleportation probability\n",
        "        new_pagerank += (1 - damping_factor) / num_vertices\n",
        "\n",
        "        # Update the initial pagerank vector for the next iteration\n",
        "        initial_pagerank = new_pagerank\n",
        "\n",
        "    # Return the final computed pagerank vector\n",
        "    return initial_pagerank"
      ],
      "metadata": {
        "id": "3kV0HxrgjUuO"
      },
      "execution_count": 28,
      "outputs": []
    },
    {
      "cell_type": "code",
      "source": [
        "# Initialize PageRank values for all vertices\n",
        "num_vertices = len(graph)\n",
        "pagerank = np.ones(num_vertices) / num_vertices"
      ],
      "metadata": {
        "id": "4R7FMZYMjZgf"
      },
      "execution_count": 29,
      "outputs": []
    },
    {
      "cell_type": "code",
      "source": [
        "pagerank"
      ],
      "metadata": {
        "colab": {
          "base_uri": "https://localhost:8080/"
        },
        "id": "WQD7Fmacjf2Q",
        "outputId": "f874f6d9-6eca-45eb-8fa6-5d9cbcf2f4b5"
      },
      "execution_count": 30,
      "outputs": [
        {
          "output_type": "execute_result",
          "data": {
            "text/plain": [
              "array([1.35234917e-06, 1.35234917e-06, 1.35234917e-06, ...,\n",
              "       1.35234917e-06, 1.35234917e-06, 1.35234917e-06])"
            ]
          },
          "metadata": {},
          "execution_count": 30
        }
      ]
    }
  ]
}