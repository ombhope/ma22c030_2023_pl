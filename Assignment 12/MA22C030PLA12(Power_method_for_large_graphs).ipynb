{
  "nbformat": 4,
  "nbformat_minor": 0,
  "metadata": {
    "colab": {
      "provenance": [],
      "authorship_tag": "ABX9TyMwOd+UpDer8EDqKgUhlK2G",
      "include_colab_link": true
    },
    "kernelspec": {
      "name": "python3",
      "display_name": "Python 3"
    },
    "language_info": {
      "name": "python"
    }
  },
  "cells": [
    {
      "cell_type": "markdown",
      "metadata": {
        "id": "view-in-github",
        "colab_type": "text"
      },
      "source": [
        "<a href=\"https://colab.research.google.com/github/ombhope/ma22c030_2023_pl/blob/main/Assignment%2012/MA22C030PLA12(Power_method_for_large_graphs).ipynb\" target=\"_parent\"><img src=\"https://colab.research.google.com/assets/colab-badge.svg\" alt=\"Open In Colab\"/></a>"
      ]
    },
    {
      "cell_type": "code",
      "execution_count": 2,
      "metadata": {
        "id": "gHCkW1HxrcD-"
      },
      "outputs": [],
      "source": [
        "import numpy as np"
      ]
    },
    {
      "cell_type": "code",
      "source": [
        "# Parameters\n",
        "probability_p = 0.4\n",
        "total_states = 10"
      ],
      "metadata": {
        "id": "JjrjW7WasEI1"
      },
      "execution_count": 3,
      "outputs": []
    },
    {
      "cell_type": "code",
      "source": [
        "# Create the transition matrix P\n",
        "transition_matrix = np.zeros((total_states + 1, total_states + 1))\n",
        "for i in range(total_states + 1):\n",
        "    transition_matrix[i, i] = 1 - probability_p\n",
        "    if i < total_states:\n",
        "        transition_matrix[i, i + 1] = probability_p\n",
        "    if i > 0:\n",
        "        transition_matrix[i, i - 1] = 1 - probability_p"
      ],
      "metadata": {
        "id": "5gbC7dZcu3W9"
      },
      "execution_count": 4,
      "outputs": []
    },
    {
      "cell_type": "code",
      "source": [
        "# Use eig to find the stationary distribution\n",
        "eigenvalues, eigenvectors = np.linalg.eig(transition_matrix.T)\n",
        "stationary_distribution = np.real(eigenvectors[:, 0] / np.sum(eigenvectors[:, 0]))\n",
        "\n",
        "print(\"Stationary Distribution:\")\n",
        "print(stationary_distribution)"
      ],
      "metadata": {
        "colab": {
          "base_uri": "https://localhost:8080/"
        },
        "id": "o0OQtAhXvf8k",
        "outputId": "d6c40410-4d78-4ee5-aa7b-402628db59b7"
      },
      "execution_count": 6,
      "outputs": [
        {
          "output_type": "stream",
          "name": "stdout",
          "text": [
            "Stationary Distribution:\n",
            "[ 2.98220472 -4.70398142  5.43168988 -5.43168988  4.94655091 -4.18131682\n",
            "  3.29770061 -2.41408439  1.6093896  -0.92918152  0.39271832]\n"
          ]
        }
      ]
    },
    {
      "cell_type": "code",
      "source": [
        "import numpy as np"
      ],
      "metadata": {
        "id": "OiMPsGI3vkgr"
      },
      "execution_count": 7,
      "outputs": []
    },
    {
      "cell_type": "code",
      "source": [
        "total_states = 10\n",
        "r_values = [0.1, 0.01, 1e-3, 1e-4]\n",
        "\n",
        "for damping_factor in r_values:\n",
        "    # Create the transition matrix P\n",
        "    transition_matrix = np.zeros((total_states + 1, total_states + 1))\n",
        "    for i in range(total_states + 1):\n",
        "        transition_matrix[i, i] = (1 - damping_factor) / (total_states + 1)\n",
        "        for j in range(total_states + 1):\n",
        "            if i != j:\n",
        "                transition_matrix[i, j] = damping_factor / total_states\n",
        "\n",
        "    # Use eig to find the stationary distribution\n",
        "    eigenvalues, eigenvectors = np.linalg.eig(transition_matrix.T)\n",
        "    pagerank = np.real(eigenvectors[:, 0] / np.sum(eigenvectors[:, 0]))\n",
        "\n",
        "    # Print the results\n",
        "    print(f\"PageRank for damping_factor = {damping_factor}:\")\n",
        "    print(pagerank)\n",
        "    print()"
      ],
      "metadata": {
        "colab": {
          "base_uri": "https://localhost:8080/"
        },
        "id": "FiF_023pvq4K",
        "outputId": "f2ed77e8-7472-4665-cbe8-57dc652a5a34"
      },
      "execution_count": 8,
      "outputs": [
        {
          "output_type": "stream",
          "name": "stdout",
          "text": [
            "PageRank for damping_factor = 0.1:\n",
            "[ 2.64247001e+15 -2.64247001e+14 -2.64247001e+14 -2.64247001e+14\n",
            " -2.64247001e+14 -2.64247001e+14 -2.64247001e+14 -2.64247001e+14\n",
            " -2.64247001e+14 -2.64247001e+14 -2.64247001e+14]\n",
            "\n",
            "PageRank for damping_factor = 0.01:\n",
            "[ 3.15156973e+14 -3.15156973e+13 -3.15156973e+13 -3.15156973e+13\n",
            " -3.15156973e+13 -3.15156973e+13 -3.15156973e+13 -3.15156973e+13\n",
            " -3.15156973e+13 -3.15156973e+13 -3.15156973e+13]\n",
            "\n",
            "PageRank for damping_factor = 0.001:\n",
            "[-2.52218136e+13  2.52218136e+12  2.52218136e+12  2.52218136e+12\n",
            "  2.52218136e+12  2.52218136e+12  2.52218136e+12  2.52218136e+12\n",
            "  2.52218136e+12  2.52218136e+12  2.52218136e+12]\n",
            "\n",
            "PageRank for damping_factor = 0.0001:\n",
            "[-2.25407547e+12  2.25407547e+11  2.25407547e+11  2.25407547e+11\n",
            "  2.25407547e+11  2.25407547e+11  2.25407547e+11  2.25407547e+11\n",
            "  2.25407547e+11  2.25407547e+11  2.25407547e+11]\n",
            "\n"
          ]
        }
      ]
    },
    {
      "cell_type": "code",
      "source": [
        "import numpy as np\n",
        "\n",
        "def power_iteration(x, apply_Pt, damping_factor=0.1, max_iterations=1000, tolerance=1e-10):\n",
        "    n = 1\n",
        "    prev_x = x\n",
        "\n",
        "    while n <= max_iterations:\n",
        "        x = (1 - damping_factor) * apply_Pt(x) + damping_factor / len(x)\n",
        "        x /= np.linalg.norm(x, 1)\n",
        "\n",
        "        if np.linalg.norm(x - prev_x, 1) < tolerance:\n",
        "            return x\n",
        "\n",
        "        prev_x = x\n",
        "        n += 1\n",
        "\n",
        "    return x"
      ],
      "metadata": {
        "id": "oNOScAtJvwnM"
      },
      "execution_count": 9,
      "outputs": []
    },
    {
      "cell_type": "code",
      "source": [
        "# Define the parameters\n",
        "total_states = 100000\n",
        "damping_factor = 0.1"
      ],
      "metadata": {
        "id": "Bi5PWbBDv1f_"
      },
      "execution_count": 10,
      "outputs": []
    },
    {
      "cell_type": "code",
      "source": [
        "# Define a function to apply Pt to a vector\n",
        "def apply_transition_matrix_T(x):\n",
        "    # Define the transition matrix P here...\n",
        "    return transition_matrix.T @ x\n",
        "\n",
        "# Create the transition matrix P (in this case, a simple example)\n",
        "transition_matrix = np.zeros((total_states + 1, total_states + 1))\n",
        "for i in range(total_states + 1):\n",
        "    transition_matrix[i, i] = 1.0 / (total_states + 1)\n",
        "    if i < total_states:\n",
        "        transition_matrix[i, i + 1] = damping_factor\n",
        "        transition_matrix[i, i] = 1 - damping_factor"
      ],
      "metadata": {
        "id": "Wk7dEXBGv5GK"
      },
      "execution_count": 11,
      "outputs": []
    },
    {
      "cell_type": "code",
      "source": [
        "# Initialize the initial probability distribution (random)\n",
        "initial_distribution = np.random.rand(total_states + 1)\n",
        "initial_distribution /= np.sum(initial_distribution)\n",
        "\n",
        "# Compute the PageRank using the power method\n",
        "pagerank_result = power_iteration(initial_distribution, apply_transition_matrix_T, damping_factor=damping_factor)\n",
        "\n",
        "print(\"PageRank for damping_factor =\", damping_factor, \"and total_states =\", total_states, \"for the ruin state:\")\n",
        "print(pagerank_result)\n",
        "\n",
        "import numpy as np\n",
        "\n",
        "def power_iteration(x, apply_Pt, damping_factor=0.1, max_iterations=1000, tolerance=1e-10):\n",
        "    n = 1\n",
        "    prev_x = x\n",
        "\n",
        "    while n <= max_iterations:\n",
        "        x = (1 - damping_factor) * apply_Pt(x) + damping_factor / len(x)\n",
        "        x /= np.linalg.norm(x, 1)\n",
        "\n",
        "        if np.linalg.norm(x - prev_x, 1) < tolerance:\n",
        "            return x\n",
        "\n",
        "        prev_x = x\n",
        "        n += 1\n",
        "\n",
        "    return x"
      ],
      "metadata": {
        "colab": {
          "base_uri": "https://localhost:8080/"
        },
        "id": "1Ab20l5nv9lM",
        "outputId": "bb401027-d572-40ce-de14-7b2f86e212f8"
      },
      "execution_count": 12,
      "outputs": [
        {
          "output_type": "stream",
          "name": "stdout",
          "text": [
            "PageRank for damping_factor = 0.1 and total_states = 100000 for the ruin state:\n",
            "[5.26315263e-06 7.75624737e-06 8.93719761e-06 ... 1.00000710e-05\n",
            " 1.00000710e-05 1.90001674e-06]\n"
          ]
        }
      ]
    },
    {
      "cell_type": "code",
      "source": [
        "# Define a function to apply Pt to a vector\n",
        "def apply_transition_matrix_T(x):\n",
        "    return transition_matrix.T @ x"
      ],
      "metadata": {
        "id": "2gmYm-6nwCPR"
      },
      "execution_count": 13,
      "outputs": []
    },
    {
      "cell_type": "code",
      "source": [
        "# Example usage\n",
        "total_states = 100000\n",
        "damping_factor = 0.1\n",
        "transition_matrix = np.zeros((total_states + 1, total_states + 1))\n",
        "# Define the transition matrix P here..."
      ],
      "metadata": {
        "id": "wFCnRZBWwEeH"
      },
      "execution_count": 14,
      "outputs": []
    },
    {
      "cell_type": "code",
      "source": [
        "# Fill in the values of the transition matrix P based on your problem\n",
        "\n",
        "initial_distribution = np.ones(total_states + 1) / (total_states + 1)\n",
        "pagerank_result = power_iteration(initial_distribution, apply_transition_matrix_T, damping_factor=damping_factor)\n",
        "print(\"PageRank for damping_factor = 0.1 and total_states = 100000:\")\n",
        "print(pagerank_result)\n"
      ],
      "metadata": {
        "colab": {
          "base_uri": "https://localhost:8080/"
        },
        "id": "QZTAWuR3wHjN",
        "outputId": "6f859825-7ce2-4f5d-99d4-38f52a21149a"
      },
      "execution_count": 15,
      "outputs": [
        {
          "output_type": "stream",
          "name": "stdout",
          "text": [
            "PageRank for damping_factor = 0.1 and total_states = 100000:\n",
            "[9.9999e-06 9.9999e-06 9.9999e-06 ... 9.9999e-06 9.9999e-06 9.9999e-06]\n"
          ]
        }
      ]
    },
    {
      "cell_type": "code",
      "source": [],
      "metadata": {
        "id": "JaTSF34UwJbk"
      },
      "execution_count": null,
      "outputs": []
    }
  ]
}