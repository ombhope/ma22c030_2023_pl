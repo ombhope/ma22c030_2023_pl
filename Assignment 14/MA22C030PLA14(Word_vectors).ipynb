{
  "nbformat": 4,
  "nbformat_minor": 0,
  "metadata": {
    "colab": {
      "provenance": [],
      "authorship_tag": "ABX9TyOnE4vYo5cb4f23RVqcKipK",
      "include_colab_link": true
    },
    "kernelspec": {
      "name": "python3",
      "display_name": "Python 3"
    },
    "language_info": {
      "name": "python"
    }
  },
  "cells": [
    {
      "cell_type": "markdown",
      "metadata": {
        "id": "view-in-github",
        "colab_type": "text"
      },
      "source": [
        "<a href=\"https://colab.research.google.com/github/ombhope/ma22c030_2023_pl/blob/main/Assignment%2014/MA22C030PLA14(Word_vectors).ipynb\" target=\"_parent\"><img src=\"https://colab.research.google.com/assets/colab-badge.svg\" alt=\"Open In Colab\"/></a>"
      ]
    },
    {
      "cell_type": "code",
      "execution_count": 2,
      "metadata": {
        "id": "gkY7KRHZZVca"
      },
      "outputs": [],
      "source": [
        "documents = { \\\n",
        "    'Lincoln1865':\n",
        "    'With malice toward none, with charity for all ...' +\n",
        "    'let us strive on to finish the work we are in ... ' +\n",
        "    'to do all which may achieve and cherish a just and lasting peace, ' +\n",
        "    'among ourselves, and with all nations.',\n",
        "\n",
        "    'TrumpMay26':\n",
        "    'There is NO WAY (ZERO!) that Mail-In Ballots ' +\n",
        "    'will be anything less than substantially fraudulent.',\n",
        "\n",
        "    'Wikipedia':\n",
        "    'In 1998, Oregon became the first state in the US ' +\n",
        "    'to conduct all voting exclusively by mail.',\n",
        "\n",
        "    'FortuneMay26':\n",
        "    'Over the last two decades, about 0.00006% of total ' +\n",
        "    'vote-by-mail votes cast were fraudulent.',\n",
        "\n",
        "    'TheHillApr07':\n",
        "    'Trump voted by mail in the Florida primary.',\n",
        "\n",
        "    'KingJamesBible':\n",
        "    'Wherefore laying aside all malice, and all guile, and ' +\n",
        "    'hypocrisies, and envies, and all evil speakings',\n",
        "}\n",
        "\n",
        "from sklearn.feature_extraction.text import CountVectorizer\n",
        "import pandas as pd\n",
        "from sklearn.decomposition import TruncatedSVD\n",
        "from sklearn.feature_extraction.text import TfidfVectorizer\n",
        "from sklearn.metrics.pairwise import cosine_similarity\n",
        "\n"
      ]
    },
    {
      "cell_type": "code",
      "source": [
        "# Create a CountVectorizer\n",
        "vectorizer = CountVectorizer()\n",
        "\n",
        "# Fit and transform the text data using the vectorizer\n",
        "X = vectorizer.fit_transform(documents.values())\n",
        "\n",
        "# Create a DataFrame from the term-document matrix\n",
        "term_document_df = pd.DataFrame(X.toarray(), columns=vectorizer.get_feature_names_out(), index=documents.keys())\n",
        "\n",
        "print(term_document_df)"
      ],
      "metadata": {
        "colab": {
          "base_uri": "https://localhost:8080/"
        },
        "id": "PcYY7Yb-ZXHo",
        "outputId": "941755e8-b119-4a72-c4ce-51d0c3b21596"
      },
      "execution_count": 7,
      "outputs": [
        {
          "output_type": "stream",
          "name": "stdout",
          "text": [
            "                00006  1998  about  achieve  all  among  and  anything  are  \\\n",
            "Lincoln1865         0     0      0        1    3      1    3         0    1   \n",
            "TrumpMay26          0     0      0        0    0      0    0         1    0   \n",
            "Wikipedia           0     1      0        0    1      0    0         0    0   \n",
            "FortuneMay26        1     0      1        0    0      0    0         0    0   \n",
            "TheHillApr07        0     0      0        0    0      0    0         0    0   \n",
            "KingJamesBible      0     0      0        0    3      0    4         0    0   \n",
            "\n",
            "                aside  ...  voting  way  we  were  wherefore  which  will  \\\n",
            "Lincoln1865         0  ...       0    0   1     0          0      1     0   \n",
            "TrumpMay26          0  ...       0    1   0     0          0      0     1   \n",
            "Wikipedia           0  ...       1    0   0     0          0      0     0   \n",
            "FortuneMay26        0  ...       0    0   0     1          0      0     0   \n",
            "TheHillApr07        0  ...       0    0   0     0          0      0     0   \n",
            "KingJamesBible      1  ...       0    0   0     0          1      0     0   \n",
            "\n",
            "                with  work  zero  \n",
            "Lincoln1865        3     1     0  \n",
            "TrumpMay26         0     0     1  \n",
            "Wikipedia          0     0     0  \n",
            "FortuneMay26       0     0     0  \n",
            "TheHillApr07       0     0     0  \n",
            "KingJamesBible     0     0     0  \n",
            "\n",
            "[6 rows x 78 columns]\n"
          ]
        }
      ]
    },
    {
      "cell_type": "code",
      "source": [],
      "metadata": {
        "id": "SrOfyeV8ZpcC"
      },
      "execution_count": 4,
      "outputs": []
    },
    {
      "cell_type": "code",
      "source": [],
      "metadata": {
        "colab": {
          "base_uri": "https://localhost:8080/"
        },
        "id": "zcLdb07kZuq7",
        "outputId": "7f3655fd-bf68-4f77-c271-cea91f557c73"
      },
      "execution_count": 5,
      "outputs": [
        {
          "output_type": "stream",
          "name": "stdout",
          "text": [
            "                00006  1998  about  achieve  all  among  and  anything  are  \\\n",
            "Lincoln1865         0     0      0        1    3      1    3         0    1   \n",
            "TrumpMay26          0     0      0        0    0      0    0         1    0   \n",
            "Wikipedia           0     1      0        0    1      0    0         0    0   \n",
            "FortuneMay26        1     0      1        0    0      0    0         0    0   \n",
            "TheHillApr07        0     0      0        0    0      0    0         0    0   \n",
            "KingJamesBible      0     0      0        0    3      0    4         0    0   \n",
            "\n",
            "                aside  ...  voting  way  we  were  wherefore  which  will  \\\n",
            "Lincoln1865         0  ...       0    0   1     0          0      1     0   \n",
            "TrumpMay26          0  ...       0    1   0     0          0      0     1   \n",
            "Wikipedia           0  ...       1    0   0     0          0      0     0   \n",
            "FortuneMay26        0  ...       0    0   0     1          0      0     0   \n",
            "TheHillApr07        0  ...       0    0   0     0          0      0     0   \n",
            "KingJamesBible      1  ...       0    0   0     0          1      0     0   \n",
            "\n",
            "                with  work  zero  \n",
            "Lincoln1865        3     1     0  \n",
            "TrumpMay26         0     0     1  \n",
            "Wikipedia          0     0     0  \n",
            "FortuneMay26       0     0     0  \n",
            "TheHillApr07       0     0     0  \n",
            "KingJamesBible     0     0     0  \n",
            "\n",
            "[6 rows x 78 columns]\n"
          ]
        }
      ]
    },
    {
      "cell_type": "code",
      "source": [
        "# Create an LSA (Latent Semantic Analysis) model\n",
        "lsa = TruncatedSVD(n_components=3)\n",
        "\n",
        "# Fit the LSA model to the term-document matrix\n",
        "lsa_result = lsa.fit_transform(X)\n",
        "\n",
        "# Create a DataFrame for the LSA representations\n",
        "lsa_df = pd.DataFrame(lsa_result, index=documents.keys(), columns=[\"LSA1\", \"LSA2\", \"LSA3\"])\n",
        "\n",
        "# Print the LSA representations of documents\n",
        "print(\"LSA representations of documents:\")\n",
        "print(lsa_df)"
      ],
      "metadata": {
        "colab": {
          "base_uri": "https://localhost:8080/"
        },
        "id": "-F1Kt4zDZyye",
        "outputId": "582f4afd-2554-4d90-dd6d-83d401c9337a"
      },
      "execution_count": 8,
      "outputs": [
        {
          "output_type": "stream",
          "name": "stdout",
          "text": [
            "LSA representations of documents:\n",
            "                    LSA1      LSA2      LSA3\n",
            "Lincoln1865     7.171422  0.291899 -2.255414\n",
            "TrumpMay26      0.242132  1.681556  1.050891\n",
            "Wikipedia       1.719705  3.404743  0.820250\n",
            "FortuneMay26    0.278378  2.079645  1.290960\n",
            "TheHillApr07    0.402493  1.639630  0.546144\n",
            "KingJamesBible  4.226592 -2.270034  3.295868\n"
          ]
        }
      ]
    },
    {
      "cell_type": "code",
      "source": [
        "# Find the vector representation of the word \"vote\"\n",
        "word_index = vectorizer.vocabulary_.get(\"vote\")\n",
        "if word_index is not None:\n",
        "    word_vector = lsa.components_[:, word_index]\n",
        "    print(\"Vector representation of the word 'vote':\", word_vector)\n",
        "else:\n",
        "    print(\"The word 'vote' is not in the vocabulary.\")"
      ],
      "metadata": {
        "colab": {
          "base_uri": "https://localhost:8080/"
        },
        "id": "jfWqEATBZ_o9",
        "outputId": "bba0259a-5d29-4156-e6b8-b2750b330d24"
      },
      "execution_count": 9,
      "outputs": [
        {
          "output_type": "stream",
          "name": "stdout",
          "text": [
            "Vector representation of the word 'vote': [0.00383711 0.07797262 0.06555871]\n"
          ]
        }
      ]
    },
    {
      "cell_type": "code",
      "source": [
        "# Compute cosine similarity between 'Lincoln1865' and 'Wikipedia'\n",
        "cosine_similarity_l1865_wikipedia = cosine_similarity(lsa_df.loc['Lincoln1865'].to_numpy().reshape(1, -1),\n",
        "                                                       lsa_df.loc['Wikipedia'].to_numpy().reshape(1, -1))"
      ],
      "metadata": {
        "id": "BsGc12qbaDnS"
      },
      "execution_count": 10,
      "outputs": []
    },
    {
      "cell_type": "code",
      "source": [
        "# Compute cosine similarity between 'TrumpMay26' and 'Wikipedia'\n",
        "cosine_similarity_trump_wikipedia = cosine_similarity(lsa_df.loc['TrumpMay26'].to_numpy().reshape(1, -1),\n",
        "                                                      lsa_df.loc['Wikipedia'].to_numpy().reshape(1, -1))"
      ],
      "metadata": {
        "id": "h-PYuZVTaGp6"
      },
      "execution_count": 11,
      "outputs": []
    },
    {
      "cell_type": "code",
      "source": [
        "print(\"Cosine similarity between 'Lincoln1865' and 'Wikipedia':\", cosine_similarity_l1865_wikipedia[0, 0])\n",
        "print(\"Cosine similarity between 'TrumpMay26' and 'Wikipedia':\", cosine_similarity_trump_wikipedia[0, 0])"
      ],
      "metadata": {
        "colab": {
          "base_uri": "https://localhost:8080/"
        },
        "id": "_vGn0rywaJPN",
        "outputId": "5b4b39d8-fdf4-47da-ef5a-b46e93a0314c"
      },
      "execution_count": 12,
      "outputs": [
        {
          "output_type": "stream",
          "name": "stdout",
          "text": [
            "Cosine similarity between 'Lincoln1865' and 'Wikipedia': 0.39098119916613594\n",
            "Cosine similarity between 'TrumpMay26' and 'Wikipedia': 0.8985895779312532\n"
          ]
        }
      ]
    },
    {
      "cell_type": "code",
      "source": [
        "# Create a TfidfVectorizer object\n",
        "tfidf_vectorizer = TfidfVectorizer()\n",
        "\n",
        "# Fit and transform the text data to compute the TF-IDF matrix\n",
        "tfidf_matrix = tfidf_vectorizer.fit_transform(documents.values())\n",
        "\n",
        "# Create a DataFrame from the TF-IDF matrix\n",
        "tfidf_df = pd.DataFrame(tfidf_matrix.toarray(), columns=tfidf_vectorizer.get_feature_names_out(), index=documents.keys())\n",
        "\n",
        "# Display the TF-IDF matrix\n",
        "print(tfidf_df)"
      ],
      "metadata": {
        "colab": {
          "base_uri": "https://localhost:8080/"
        },
        "id": "OEPEGfB9aLyS",
        "outputId": "a692a4e3-d1f9-41f6-e2c9-0670ada24ad1"
      },
      "execution_count": 13,
      "outputs": [
        {
          "output_type": "stream",
          "name": "stdout",
          "text": [
            "                  00006      1998    about   achieve       all     among  \\\n",
            "Lincoln1865     0.00000  0.000000  0.00000  0.147276  0.305882  0.147276   \n",
            "TrumpMay26      0.00000  0.000000  0.00000  0.000000  0.000000  0.000000   \n",
            "Wikipedia       0.00000  0.272458  0.00000  0.000000  0.188626  0.000000   \n",
            "FortuneMay26    0.26865  0.000000  0.26865  0.000000  0.000000  0.000000   \n",
            "TheHillApr07    0.00000  0.000000  0.00000  0.000000  0.000000  0.000000   \n",
            "KingJamesBible  0.00000  0.000000  0.00000  0.000000  0.426225  0.000000   \n",
            "\n",
            "                     and  anything       are     aside  ...    voting  \\\n",
            "Lincoln1865     0.362304   0.00000  0.147276  0.000000  ...  0.000000   \n",
            "TrumpMay26      0.000000   0.26374  0.000000  0.000000  ...  0.000000   \n",
            "Wikipedia       0.000000   0.00000  0.000000  0.000000  ...  0.272458   \n",
            "FortuneMay26    0.000000   0.00000  0.000000  0.000000  ...  0.000000   \n",
            "TheHillApr07    0.000000   0.00000  0.000000  0.000000  ...  0.000000   \n",
            "KingJamesBible  0.673126   0.00000  0.000000  0.205218  ...  0.000000   \n",
            "\n",
            "                    way        we     were  wherefore     which     will  \\\n",
            "Lincoln1865     0.00000  0.147276  0.00000   0.000000  0.147276  0.00000   \n",
            "TrumpMay26      0.26374  0.000000  0.00000   0.000000  0.000000  0.26374   \n",
            "Wikipedia       0.00000  0.000000  0.00000   0.000000  0.000000  0.00000   \n",
            "FortuneMay26    0.00000  0.000000  0.26865   0.000000  0.000000  0.00000   \n",
            "TheHillApr07    0.00000  0.000000  0.00000   0.000000  0.000000  0.00000   \n",
            "KingJamesBible  0.00000  0.000000  0.00000   0.205218  0.000000  0.00000   \n",
            "\n",
            "                    with      work     zero  \n",
            "Lincoln1865     0.441827  0.147276  0.00000  \n",
            "TrumpMay26      0.000000  0.000000  0.26374  \n",
            "Wikipedia       0.000000  0.000000  0.00000  \n",
            "FortuneMay26    0.000000  0.000000  0.00000  \n",
            "TheHillApr07    0.000000  0.000000  0.00000  \n",
            "KingJamesBible  0.000000  0.000000  0.00000  \n",
            "\n",
            "[6 rows x 78 columns]\n"
          ]
        }
      ]
    },
    {
      "cell_type": "code",
      "source": [
        "# Define the word vectors for \"malice,\" \"vote,\" and \"mail\"\n",
        "malice_vector = tfidf_df.loc['Lincoln1865'].values.reshape(1, -1)\n",
        "vote_vector = tfidf_df.loc['Wikipedia'].values.reshape(1, -1)\n",
        "mail_vector = tfidf_df.loc['TrumpMay26'].values.reshape(1, -1)"
      ],
      "metadata": {
        "id": "6yC7Os1LaOxR"
      },
      "execution_count": 14,
      "outputs": []
    },
    {
      "cell_type": "code",
      "source": [
        "# Compute the cosine similarity between word vectors\n",
        "cosine_malice_vote = cosine_similarity(malice_vector, vote_vector)\n",
        "cosine_mail_vote = cosine_similarity(mail_vector, vote_vector)"
      ],
      "metadata": {
        "id": "UE2-SHxwaQ_n"
      },
      "execution_count": 15,
      "outputs": []
    },
    {
      "cell_type": "code",
      "source": [
        "print(\"Cosine similarity between 'malice' and 'vote' using TF-IDF:\", cosine_malice_vote[0, 0])\n",
        "print(\"Cosine similarity between 'mail' and 'vote' using TF-IDF:\", cosine_mail_vote[0, 0])"
      ],
      "metadata": {
        "colab": {
          "base_uri": "https://localhost:8080/"
        },
        "id": "XD5l5zahaUA2",
        "outputId": "6fd9a3a7-1830-4637-a535-88737a935e20"
      },
      "execution_count": 16,
      "outputs": [
        {
          "output_type": "stream",
          "name": "stdout",
          "text": [
            "Cosine similarity between 'malice' and 'vote' using TF-IDF: 0.19513415920023014\n",
            "Cosine similarity between 'mail' and 'vote' using TF-IDF: 0.0758726657016838\n"
          ]
        }
      ]
    },
    {
      "cell_type": "code",
      "source": [],
      "metadata": {
        "id": "fweTjMf0aUa7"
      },
      "execution_count": null,
      "outputs": []
    }
  ]
}