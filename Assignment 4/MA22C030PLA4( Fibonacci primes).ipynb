{
  "nbformat": 4,
  "nbformat_minor": 0,
  "metadata": {
    "colab": {
      "provenance": [],
      "include_colab_link": true
    },
    "kernelspec": {
      "name": "python3",
      "display_name": "Python 3"
    },
    "language_info": {
      "name": "python"
    }
  },
  "cells": [
    {
      "cell_type": "markdown",
      "metadata": {
        "id": "view-in-github",
        "colab_type": "text"
      },
      "source": [
        "<a href=\"https://colab.research.google.com/github/ombhope/ma22c030_2023_pl/blob/main/Assignment%204/MA22C030PLA4_1.ipynb\" target=\"_parent\"><img src=\"https://colab.research.google.com/assets/colab-badge.svg\" alt=\"Open In Colab\"/></a>"
      ]
    },
    {
      "cell_type": "markdown",
      "source": [
        "#1 Generator expressions"
      ],
      "metadata": {
        "id": "TOZpOd-ewFBZ"
      }
    },
    {
      "cell_type": "code",
      "source": [
        "i=2; N=10\n",
        "L = [n**i for n in range(1, N)]"
      ],
      "metadata": {
        "id": "mA3jlcI8wHkI"
      },
      "execution_count": 1,
      "outputs": []
    },
    {
      "cell_type": "code",
      "source": [
        "G = (n**i for n in range(1, N))"
      ],
      "metadata": {
        "id": "2Sxk_zISwRVr"
      },
      "execution_count": 2,
      "outputs": []
    },
    {
      "cell_type": "code",
      "source": [
        "[l for l in L]"
      ],
      "metadata": {
        "colab": {
          "base_uri": "https://localhost:8080/"
        },
        "id": "qheTuLHewUOV",
        "outputId": "3ae357ae-b89e-4cf4-8ef7-8602604070d9"
      },
      "execution_count": 3,
      "outputs": [
        {
          "output_type": "execute_result",
          "data": {
            "text/plain": [
              "[1, 4, 9, 16, 25, 36, 49, 64, 81]"
            ]
          },
          "metadata": {},
          "execution_count": 3
        }
      ]
    },
    {
      "cell_type": "code",
      "source": [
        "[g for g in G]"
      ],
      "metadata": {
        "colab": {
          "base_uri": "https://localhost:8080/"
        },
        "id": "hyaqpGfFwXfa",
        "outputId": "e0b0c492-8f2d-4ad2-f56a-5df74eaa943f"
      },
      "execution_count": 4,
      "outputs": [
        {
          "output_type": "execute_result",
          "data": {
            "text/plain": [
              "[1, 4, 9, 16, 25, 36, 49, 64, 81]"
            ]
          },
          "metadata": {},
          "execution_count": 4
        }
      ]
    },
    {
      "cell_type": "code",
      "source": [
        "[g for g in G]"
      ],
      "metadata": {
        "colab": {
          "base_uri": "https://localhost:8080/"
        },
        "id": "iAPugSbBwbAT",
        "outputId": "b811151e-a8ae-4869-8efc-ff9bad3f2a42"
      },
      "execution_count": 5,
      "outputs": [
        {
          "output_type": "execute_result",
          "data": {
            "text/plain": [
              "[]"
            ]
          },
          "metadata": {},
          "execution_count": 5
        }
      ]
    },
    {
      "cell_type": "markdown",
      "source": [
        "#2 Generator functions"
      ],
      "metadata": {
        "id": "ScrnYV3iwlwB"
      }
    },
    {
      "cell_type": "code",
      "source": [
        "def GG():\n",
        "  for n in range(1, N):\n",
        "    yield n**i"
      ],
      "metadata": {
        "id": "2rW__Z98wq5H"
      },
      "execution_count": 6,
      "outputs": []
    },
    {
      "cell_type": "code",
      "source": [
        "G2 = GG()\n",
        "print(*G2) # see that you get the same values as before"
      ],
      "metadata": {
        "colab": {
          "base_uri": "https://localhost:8080/"
        },
        "id": "AoUXQW4vwzdA",
        "outputId": "33e899fe-3bda-454c-f025-2236188f21e8"
      },
      "execution_count": 7,
      "outputs": [
        {
          "output_type": "stream",
          "name": "stdout",
          "text": [
            "1 4 9 16 25 36 49 64 81\n"
          ]
        }
      ]
    },
    {
      "cell_type": "code",
      "source": [
        "G2 = GG()\n",
        "# get the first 3 values of the sequence using next:\n",
        "next(G2), next(G2), next(G2)"
      ],
      "metadata": {
        "colab": {
          "base_uri": "https://localhost:8080/"
        },
        "id": "qusJlu_Zw3UW",
        "outputId": "e779b74a-af3d-44d3-a8d1-798134e713f4"
      },
      "execution_count": 8,
      "outputs": [
        {
          "output_type": "execute_result",
          "data": {
            "text/plain": [
              "(1, 4, 9)"
            ]
          },
          "metadata": {},
          "execution_count": 8
        }
      ]
    },
    {
      "cell_type": "code",
      "source": [
        "print(*G2) # print the remaining values of the sequence"
      ],
      "metadata": {
        "colab": {
          "base_uri": "https://localhost:8080/"
        },
        "id": "gVHNccwpw7SK",
        "outputId": "764e9c85-a2c1-495c-f8ee-a5ac39c9bce3"
      },
      "execution_count": 9,
      "outputs": [
        {
          "output_type": "stream",
          "name": "stdout",
          "text": [
            "16 25 36 49 64 81\n"
          ]
        }
      ]
    },
    {
      "cell_type": "code",
      "source": [],
      "metadata": {
        "id": "uuPjt5y1w-AY"
      },
      "execution_count": 9,
      "outputs": []
    },
    {
      "cell_type": "markdown",
      "source": [
        "#3 Disposable generators or reusable lists?"
      ],
      "metadata": {
        "id": "QQWJ5sWwxAol"
      }
    },
    {
      "cell_type": "code",
      "source": [
        "i = -20\n",
        "N = 10**8"
      ],
      "metadata": {
        "id": "1aiFyofPxEft"
      },
      "execution_count": 10,
      "outputs": []
    },
    {
      "cell_type": "code",
      "source": [
        "pip install memory_profiler"
      ],
      "metadata": {
        "colab": {
          "base_uri": "https://localhost:8080/"
        },
        "id": "tdX6fODovvrW",
        "outputId": "e10f7828-2277-4ee7-e2e1-9a101e35def1"
      },
      "execution_count": 11,
      "outputs": [
        {
          "output_type": "stream",
          "name": "stdout",
          "text": [
            "Collecting memory_profiler\n",
            "  Downloading memory_profiler-0.61.0-py3-none-any.whl (31 kB)\n",
            "Requirement already satisfied: psutil in /usr/local/lib/python3.10/dist-packages (from memory_profiler) (5.9.5)\n",
            "Installing collected packages: memory_profiler\n",
            "Successfully installed memory_profiler-0.61.0\n"
          ]
        }
      ]
    },
    {
      "cell_type": "code",
      "source": [
        "%load_ext memory_profiler"
      ],
      "metadata": {
        "id": "fexPzbjLxMbM"
      },
      "execution_count": 12,
      "outputs": []
    },
    {
      "cell_type": "code",
      "source": [
        "%memit sum([n**i for n in range(1, N)])"
      ],
      "metadata": {
        "id": "v_N_4mr_xOqF",
        "colab": {
          "base_uri": "https://localhost:8080/"
        },
        "outputId": "44b132ba-9487-4531-b68d-2edbe0ee5788"
      },
      "execution_count": 13,
      "outputs": [
        {
          "output_type": "stream",
          "name": "stdout",
          "text": [
            "peak memory: 3923.18 MiB, increment: 3829.02 MiB\n"
          ]
        }
      ]
    },
    {
      "cell_type": "code",
      "source": [
        "G3 = (n**i for n in range(1, N))\n",
        "s = 0\n",
        "for g in G3:\n",
        "  s += g\n",
        "  if g < 1e-15:\n",
        "    break\n",
        "print(s)"
      ],
      "metadata": {
        "id": "nv5ImulKxR0-",
        "colab": {
          "base_uri": "https://localhost:8080/"
        },
        "outputId": "8a11b325-e4a3-4bae-96ea-5acff1602f7a"
      },
      "execution_count": 14,
      "outputs": [
        {
          "output_type": "stream",
          "name": "stdout",
          "text": [
            "1.0000009539620338\n"
          ]
        }
      ]
    },
    {
      "cell_type": "markdown",
      "source": [
        "#4 Infnite sequences"
      ],
      "metadata": {
        "id": "ONhxGuv4xykn"
      }
    },
    {
      "cell_type": "code",
      "source": [
        "def natural_numbers():\n",
        "  n = 0\n",
        "  while True:\n",
        "    yield n\n",
        "    n += 1"
      ],
      "metadata": {
        "id": "B9Rtee6dx4OM"
      },
      "execution_count": 15,
      "outputs": []
    },
    {
      "cell_type": "code",
      "source": [
        "for n in natural_numbers():\n",
        "  print(n)\n",
        "  if n >= 5: break # don't go into infinite loop!"
      ],
      "metadata": {
        "colab": {
          "base_uri": "https://localhost:8080/"
        },
        "id": "azq9gqsmyIi0",
        "outputId": "970d5de0-dae6-49e0-9cad-599e07663879"
      },
      "execution_count": 16,
      "outputs": [
        {
          "output_type": "stream",
          "name": "stdout",
          "text": [
            "0\n",
            "1\n",
            "2\n",
            "3\n",
            "4\n",
            "5\n"
          ]
        }
      ]
    },
    {
      "cell_type": "markdown",
      "source": [
        "#5 Fibonacci generator"
      ],
      "metadata": {
        "id": "G_gMFC4HySyo"
      }
    },
    {
      "cell_type": "code",
      "source": [
        "def fibonacci(max):\n",
        "  f, fnext = 0, 1\n",
        "  while f < max:\n",
        "    yield f\n",
        "    f, fnext = fnext, f + fnext"
      ],
      "metadata": {
        "id": "GiOMtmFSyWTZ"
      },
      "execution_count": 17,
      "outputs": []
    },
    {
      "cell_type": "code",
      "source": [
        "Fn = fibonacci(10000)\n",
        "print(*Fn)"
      ],
      "metadata": {
        "colab": {
          "base_uri": "https://localhost:8080/"
        },
        "id": "0A_PkfF-yiUM",
        "outputId": "8960b8a2-f921-452b-bc63-b791c99b161b"
      },
      "execution_count": 18,
      "outputs": [
        {
          "output_type": "stream",
          "name": "stdout",
          "text": [
            "0 1 1 2 3 5 8 13 21 34 55 89 144 233 377 610 987 1597 2584 4181 6765\n"
          ]
        }
      ]
    },
    {
      "cell_type": "markdown",
      "source": [
        "#6 Prime number generato"
      ],
      "metadata": {
        "id": "TfwOqsOWzUiS"
      }
    },
    {
      "cell_type": "code",
      "source": [
        "P = [2, 3]"
      ],
      "metadata": {
        "id": "Hf7pT9bqyk6e"
      },
      "execution_count": 19,
      "outputs": []
    },
    {
      "cell_type": "code",
      "source": [
        "[4 % p for p in P]"
      ],
      "metadata": {
        "colab": {
          "base_uri": "https://localhost:8080/"
        },
        "id": "LDHPUhQgynQ0",
        "outputId": "cbe74670-30c5-4d9c-c7a4-00dd30fc7620"
      },
      "execution_count": 20,
      "outputs": [
        {
          "output_type": "execute_result",
          "data": {
            "text/plain": [
              "[0, 1]"
            ]
          },
          "metadata": {},
          "execution_count": 20
        }
      ]
    },
    {
      "cell_type": "code",
      "source": [
        "all([4 % p for p in P])"
      ],
      "metadata": {
        "colab": {
          "base_uri": "https://localhost:8080/"
        },
        "id": "JVe5RJunyphQ",
        "outputId": "51ef07e3-14f9-4b9f-d74f-7435e99e2c0c"
      },
      "execution_count": 21,
      "outputs": [
        {
          "output_type": "execute_result",
          "data": {
            "text/plain": [
              "False"
            ]
          },
          "metadata": {},
          "execution_count": 21
        }
      ]
    },
    {
      "cell_type": "code",
      "source": [
        "all([5 % p for p in P])"
      ],
      "metadata": {
        "colab": {
          "base_uri": "https://localhost:8080/"
        },
        "id": "bhbOKCJBysuo",
        "outputId": "6d2e7fc3-be01-4d19-9a3f-066dffd9c77e"
      },
      "execution_count": 22,
      "outputs": [
        {
          "output_type": "execute_result",
          "data": {
            "text/plain": [
              "True"
            ]
          },
          "metadata": {},
          "execution_count": 22
        }
      ]
    },
    {
      "cell_type": "code",
      "source": [
        "def prime_numbers(N):\n",
        "  primes = []\n",
        "  q = 1\n",
        "  for n in range(q+1, N):\n",
        "    if all(n % p > 0 for p in primes):\n",
        "      primes.append(n)\n",
        "      q = n\n",
        "      yield n"
      ],
      "metadata": {
        "id": "jE55PZueyvq8"
      },
      "execution_count": 23,
      "outputs": []
    },
    {
      "cell_type": "code",
      "source": [
        "list(prime_numbers(70))"
      ],
      "metadata": {
        "colab": {
          "base_uri": "https://localhost:8080/"
        },
        "id": "llw_0L1OzCSx",
        "outputId": "fea301e6-9650-4524-aa87-fce9e00e2d6b"
      },
      "execution_count": 24,
      "outputs": [
        {
          "output_type": "execute_result",
          "data": {
            "text/plain": [
              "[2, 3, 5, 7, 11, 13, 17, 19, 23, 29, 31, 37, 41, 43, 47, 53, 59, 61, 67]"
            ]
          },
          "metadata": {},
          "execution_count": 24
        }
      ]
    },
    {
      "cell_type": "markdown",
      "source": [
        "#7 First few Fibonacci primes"
      ],
      "metadata": {
        "id": "4skzKYctziN_"
      }
    },
    {
      "cell_type": "code",
      "source": [
        "def fibonacci_primes(N):\n",
        "  F = set(fibonacci(N))\n",
        "  P = set(prime_numbers(N))\n",
        "  print('Intersecting', len(P), 'primes with', len(F), 'fibonaccis.')\n",
        "  return P.intersection(F)\n",
        "fibonacci_primes(100000)"
      ],
      "metadata": {
        "colab": {
          "base_uri": "https://localhost:8080/"
        },
        "id": "cfYwl5LxzlJM",
        "outputId": "5e8a5a97-b172-4333-e893-eb0019ed1c3e"
      },
      "execution_count": 25,
      "outputs": [
        {
          "output_type": "stream",
          "name": "stdout",
          "text": [
            "Intersecting 9592 primes with 25 fibonaccis.\n"
          ]
        },
        {
          "output_type": "execute_result",
          "data": {
            "text/plain": [
              "{2, 3, 5, 13, 89, 233, 1597, 28657}"
            ]
          },
          "metadata": {},
          "execution_count": 25
        }
      ]
    },
    {
      "cell_type": "markdown",
      "source": [
        "#8 Verifcation"
      ],
      "metadata": {
        "id": "po5W-H8Czwik"
      }
    },
    {
      "cell_type": "code",
      "source": [
        "nFP = [3, 4, 5, 7, 11, 13, 17, 23, 29, 43]"
      ],
      "metadata": {
        "id": "V82c1RJMz0_D"
      },
      "execution_count": 26,
      "outputs": []
    },
    {
      "cell_type": "code",
      "source": [
        "def test_fibonacci_prime():\n",
        "  N = 10000\n",
        "  F = list(fibonacci(N))\n",
        "  nFP = [3, 4, 5, 7, 11, 13, 17, 23, 29, 43]\n",
        "  our_list = fibonacci_primes(N)\n",
        "  known_list = set([F[n] for n in nFP if n < len(F)])\n",
        "  assert len(known_list.difference(our_list))==0, 'We have a bug!'\n",
        "  print('Passed test!')"
      ],
      "metadata": {
        "id": "OKXrE3ykz6jo"
      },
      "execution_count": 27,
      "outputs": []
    },
    {
      "cell_type": "code",
      "source": [
        "test_fibonacci_prime()"
      ],
      "metadata": {
        "colab": {
          "base_uri": "https://localhost:8080/"
        },
        "id": "BXDmNFG80ENJ",
        "outputId": "fda074da-1967-4c5d-ef6e-6d2234a597d2"
      },
      "execution_count": 28,
      "outputs": [
        {
          "output_type": "stream",
          "name": "stdout",
          "text": [
            "Intersecting 1229 primes with 20 fibonaccis.\n",
            "Passed test!\n"
          ]
        }
      ]
    },
    {
      "cell_type": "code",
      "source": [
        "!pytest pyfiles/fibonacci_primes"
      ],
      "metadata": {
        "colab": {
          "base_uri": "https://localhost:8080/"
        },
        "id": "oSuSd8L60NWK",
        "outputId": "33328af3-a2c1-43cd-b529-c398260679ee"
      },
      "execution_count": 29,
      "outputs": [
        {
          "output_type": "stream",
          "name": "stdout",
          "text": [
            "\u001b[1m============================= test session starts ==============================\u001b[0m\n",
            "platform linux -- Python 3.10.12, pytest-7.4.0, pluggy-1.2.0\n",
            "rootdir: /content\n",
            "plugins: anyio-3.7.1\n",
            "\u001b[1mcollecting ... \u001b[0m\u001b[1m\rcollected 0 items                                                              \u001b[0m\n",
            "\n",
            "\u001b[33m============================ \u001b[33mno tests ran\u001b[0m\u001b[33m in 0.00s\u001b[0m\u001b[33m =============================\u001b[0m\n",
            "\u001b[31mERROR: file or directory not found: pyfiles/fibonacci_primes\n",
            "\u001b[0m\n"
          ]
        }
      ]
    },
    {
      "cell_type": "markdown",
      "source": [
        "#9 There must be a module for it!"
      ],
      "metadata": {
        "id": "Wa5cA2zk0oPv"
      }
    },
    {
      "cell_type": "code",
      "source": [
        "pip install --upgrade pip"
      ],
      "metadata": {
        "colab": {
          "base_uri": "https://localhost:8080/"
        },
        "id": "QkgjJx6qy-l0",
        "outputId": "ef23ef22-cf5b-474b-899b-a5e6b19e0b1a"
      },
      "execution_count": 30,
      "outputs": [
        {
          "output_type": "stream",
          "name": "stdout",
          "text": [
            "Requirement already satisfied: pip in /usr/local/lib/python3.10/dist-packages (23.1.2)\n",
            "Collecting pip\n",
            "  Downloading pip-23.2.1-py3-none-any.whl (2.1 MB)\n",
            "\u001b[2K     \u001b[90m━━━━━━━━━━━━━━━━━━━━━━━━━━━━━━━━━━━━━━━━\u001b[0m \u001b[32m2.1/2.1 MB\u001b[0m \u001b[31m31.6 MB/s\u001b[0m eta \u001b[36m0:00:00\u001b[0m\n",
            "\u001b[?25hInstalling collected packages: pip\n",
            "  Attempting uninstall: pip\n",
            "    Found existing installation: pip 23.1.2\n",
            "    Uninstalling pip-23.1.2:\n",
            "      Successfully uninstalled pip-23.1.2\n",
            "Successfully installed pip-23.2.1\n"
          ]
        }
      ]
    },
    {
      "cell_type": "code",
      "source": [
        "!apt-get update\n",
        "!apt-get install -y primesieve\n",
        "!apt-get install -y libprimesieve-dev"
      ],
      "metadata": {
        "colab": {
          "base_uri": "https://localhost:8080/"
        },
        "id": "24ouxoIQ85Ia",
        "outputId": "3caf87f7-ed5f-4b06-e052-227b3982832d"
      },
      "execution_count": 31,
      "outputs": [
        {
          "output_type": "stream",
          "name": "stdout",
          "text": [
            "\r0% [Working]\r            \rGet:1 http://security.ubuntu.com/ubuntu jammy-security InRelease [110 kB]\n",
            "\r0% [Connecting to archive.ubuntu.com (185.125.190.36)] [1 InRelease 14.2 kB/110\r                                                                               \rGet:2 https://cloud.r-project.org/bin/linux/ubuntu jammy-cran40/ InRelease [3,626 B]\n",
            "\r0% [Connecting to archive.ubuntu.com (185.125.190.36)] [1 InRelease 14.2 kB/110\r0% [Connecting to archive.ubuntu.com (185.125.190.36)] [1 InRelease 40.2 kB/110\r0% [Waiting for headers] [Connected to ppa.launchpadcontent.net (185.125.190.52\r                                                                               \rHit:3 https://developer.download.nvidia.com/compute/cuda/repos/ubuntu2204/x86_64  InRelease\n",
            "\r0% [Waiting for headers] [Connected to ppa.launchpadcontent.net (185.125.190.52\r                                                                               \rHit:4 http://archive.ubuntu.com/ubuntu jammy InRelease\n",
            "Get:5 http://archive.ubuntu.com/ubuntu jammy-updates InRelease [119 kB]\n",
            "Get:6 http://security.ubuntu.com/ubuntu jammy-security/main amd64 Packages [915 kB]\n",
            "Hit:7 https://ppa.launchpadcontent.net/c2d4u.team/c2d4u4.0+/ubuntu jammy InRelease\n",
            "Get:8 http://security.ubuntu.com/ubuntu jammy-security/restricted amd64 Packages [995 kB]\n",
            "Get:9 http://archive.ubuntu.com/ubuntu jammy-backports InRelease [109 kB]\n",
            "Hit:10 https://ppa.launchpadcontent.net/deadsnakes/ppa/ubuntu jammy InRelease\n",
            "Get:11 http://archive.ubuntu.com/ubuntu jammy-updates/main amd64 Packages [1,185 kB]\n",
            "Get:12 http://archive.ubuntu.com/ubuntu jammy-updates/universe amd64 Packages [1,251 kB]\n",
            "Get:13 https://ppa.launchpadcontent.net/graphics-drivers/ppa/ubuntu jammy InRelease [24.3 kB]\n",
            "Get:14 http://archive.ubuntu.com/ubuntu jammy-updates/restricted amd64 Packages [1,015 kB]\n",
            "Get:15 http://archive.ubuntu.com/ubuntu jammy-backports/universe amd64 Packages [28.1 kB]\n",
            "Get:16 http://archive.ubuntu.com/ubuntu jammy-backports/main amd64 Packages [50.3 kB]\n",
            "Hit:17 https://ppa.launchpadcontent.net/ubuntugis/ppa/ubuntu jammy InRelease\n",
            "Get:18 https://ppa.launchpadcontent.net/graphics-drivers/ppa/ubuntu jammy/main amd64 Packages [37.3 kB]\n",
            "Fetched 5,843 kB in 2s (3,124 kB/s)\n",
            "Reading package lists... Done\n",
            "Reading package lists... Done\n",
            "Building dependency tree... Done\n",
            "Reading state information... Done\n",
            "The following additional packages will be installed:\n",
            "  libprimesieve9 primesieve-bin\n",
            "Suggested packages:\n",
            "  primesieve-doc\n",
            "The following NEW packages will be installed:\n",
            "  libprimesieve9 primesieve primesieve-bin\n",
            "0 upgraded, 3 newly installed, 0 to remove and 16 not upgraded.\n",
            "Need to get 109 kB of archives.\n",
            "After this operation, 323 kB of additional disk space will be used.\n",
            "Get:1 http://archive.ubuntu.com/ubuntu jammy/universe amd64 libprimesieve9 amd64 7.8+ds-1 [76.7 kB]\n",
            "Get:2 http://archive.ubuntu.com/ubuntu jammy/universe amd64 primesieve-bin amd64 7.8+ds-1 [28.6 kB]\n",
            "Get:3 http://archive.ubuntu.com/ubuntu jammy/universe amd64 primesieve all 7.8+ds-1 [3,212 B]\n",
            "Fetched 109 kB in 1s (198 kB/s)\n",
            "Selecting previously unselected package libprimesieve9:amd64.\n",
            "(Reading database ... 120893 files and directories currently installed.)\n",
            "Preparing to unpack .../libprimesieve9_7.8+ds-1_amd64.deb ...\n",
            "Unpacking libprimesieve9:amd64 (7.8+ds-1) ...\n",
            "Selecting previously unselected package primesieve-bin.\n",
            "Preparing to unpack .../primesieve-bin_7.8+ds-1_amd64.deb ...\n",
            "Unpacking primesieve-bin (7.8+ds-1) ...\n",
            "Selecting previously unselected package primesieve.\n",
            "Preparing to unpack .../primesieve_7.8+ds-1_all.deb ...\n",
            "Unpacking primesieve (7.8+ds-1) ...\n",
            "Setting up libprimesieve9:amd64 (7.8+ds-1) ...\n",
            "Setting up primesieve-bin (7.8+ds-1) ...\n",
            "Setting up primesieve (7.8+ds-1) ...\n",
            "Processing triggers for man-db (2.10.2-1) ...\n",
            "Processing triggers for libc-bin (2.35-0ubuntu3.1) ...\n",
            "/sbin/ldconfig.real: /usr/local/lib/libtbbmalloc.so.2 is not a symbolic link\n",
            "\n",
            "/sbin/ldconfig.real: /usr/local/lib/libtbbmalloc_proxy.so.2 is not a symbolic link\n",
            "\n",
            "/sbin/ldconfig.real: /usr/local/lib/libtbb.so.12 is not a symbolic link\n",
            "\n",
            "/sbin/ldconfig.real: /usr/local/lib/libtbbbind_2_5.so.3 is not a symbolic link\n",
            "\n",
            "/sbin/ldconfig.real: /usr/local/lib/libtbbbind.so.3 is not a symbolic link\n",
            "\n",
            "/sbin/ldconfig.real: /usr/local/lib/libtbbbind_2_0.so.3 is not a symbolic link\n",
            "\n",
            "Reading package lists... Done\n",
            "Building dependency tree... Done\n",
            "Reading state information... Done\n",
            "The following additional packages will be installed:\n",
            "  libprimesieve-dev-common\n",
            "Suggested packages:\n",
            "  primesieve-doc\n",
            "The following NEW packages will be installed:\n",
            "  libprimesieve-dev libprimesieve-dev-common\n",
            "0 upgraded, 2 newly installed, 0 to remove and 16 not upgraded.\n",
            "Need to get 101 kB of archives.\n",
            "After this operation, 487 kB of additional disk space will be used.\n",
            "Get:1 http://archive.ubuntu.com/ubuntu jammy/universe amd64 libprimesieve-dev-common all 7.8+ds-1 [14.6 kB]\n",
            "Get:2 http://archive.ubuntu.com/ubuntu jammy/universe amd64 libprimesieve-dev amd64 7.8+ds-1 [86.4 kB]\n",
            "Fetched 101 kB in 0s (211 kB/s)\n",
            "Selecting previously unselected package libprimesieve-dev-common.\n",
            "(Reading database ... 120907 files and directories currently installed.)\n",
            "Preparing to unpack .../libprimesieve-dev-common_7.8+ds-1_all.deb ...\n",
            "Unpacking libprimesieve-dev-common (7.8+ds-1) ...\n",
            "Selecting previously unselected package libprimesieve-dev:amd64.\n",
            "Preparing to unpack .../libprimesieve-dev_7.8+ds-1_amd64.deb ...\n",
            "Unpacking libprimesieve-dev:amd64 (7.8+ds-1) ...\n",
            "Setting up libprimesieve-dev-common (7.8+ds-1) ...\n",
            "Setting up libprimesieve-dev:amd64 (7.8+ds-1) ...\n"
          ]
        }
      ]
    },
    {
      "cell_type": "code",
      "source": [
        "pip install primesieve"
      ],
      "metadata": {
        "colab": {
          "base_uri": "https://localhost:8080/"
        },
        "id": "J_sU2nZp07Xo",
        "outputId": "19433dd1-171a-4709-cc60-a08e1bda71ff"
      },
      "execution_count": 32,
      "outputs": [
        {
          "output_type": "stream",
          "name": "stdout",
          "text": [
            "Collecting primesieve\n",
            "  Downloading primesieve-2.3.2.tar.gz (92 kB)\n",
            "\u001b[?25l     \u001b[90m━━━━━━━━━━━━━━━━━━━━━━━━━━━━━━━━━━━━━━━━\u001b[0m \u001b[32m0.0/92.4 kB\u001b[0m \u001b[31m?\u001b[0m eta \u001b[36m-:--:--\u001b[0m\r\u001b[2K     \u001b[90m━━━━━━━━━━━━━━━━━━━━━━━━━━━━━━━━━━━━━━━━\u001b[0m \u001b[32m92.4/92.4 kB\u001b[0m \u001b[31m2.8 MB/s\u001b[0m eta \u001b[36m0:00:00\u001b[0m\n",
            "\u001b[?25h  Preparing metadata (setup.py) ... \u001b[?25l\u001b[?25hdone\n",
            "Building wheels for collected packages: primesieve\n",
            "  Building wheel for primesieve (setup.py) ... \u001b[?25l\u001b[?25hdone\n",
            "  Created wheel for primesieve: filename=primesieve-2.3.2-cp310-cp310-linux_x86_64.whl size=296261 sha256=134b60416a07817be4e739cec807038ffe54ffbc197f4e0aa6ed5e2c9967ba41\n",
            "  Stored in directory: /root/.cache/pip/wheels/b5/aa/75/e002789ba0e5e72dbe4c28ae10ac42560f2e5dff9b04a79bfa\n",
            "Successfully built primesieve\n",
            "Installing collected packages: primesieve\n",
            "Successfully installed primesieve-2.3.2\n",
            "\u001b[33mWARNING: Running pip as the 'root' user can result in broken permissions and conflicting behaviour with the system package manager. It is recommended to use a virtual environment instead: https://pip.pypa.io/warnings/venv\u001b[0m\u001b[33m\n",
            "\u001b[0m"
          ]
        }
      ]
    },
    {
      "cell_type": "code",
      "source": [
        "from primesieve import primes # do after you have installed primesieve\n",
        "list(primes(70))"
      ],
      "metadata": {
        "colab": {
          "base_uri": "https://localhost:8080/"
        },
        "id": "2OxLNKXz0lRu",
        "outputId": "c6dd8a4c-f444-475b-e88a-d5ae0817a200"
      },
      "execution_count": 33,
      "outputs": [
        {
          "output_type": "execute_result",
          "data": {
            "text/plain": [
              "[2, 3, 5, 7, 11, 13, 17, 19, 23, 29, 31, 37, 41, 43, 47, 53, 59, 61, 67]"
            ]
          },
          "metadata": {},
          "execution_count": 33
        }
      ]
    },
    {
      "cell_type": "code",
      "source": [
        "%timeit primes(1000)"
      ],
      "metadata": {
        "id": "SWyvjayK00OM",
        "colab": {
          "base_uri": "https://localhost:8080/"
        },
        "outputId": "fb04f694-33dd-4eeb-f084-ec1090e53e04"
      },
      "execution_count": 34,
      "outputs": [
        {
          "output_type": "stream",
          "name": "stdout",
          "text": [
            "1.69 µs ± 320 ns per loop (mean ± std. dev. of 7 runs, 1000000 loops each)\n"
          ]
        }
      ]
    },
    {
      "cell_type": "markdown",
      "source": [
        "#10 The Fibonaccis among primes (or vice versa)?"
      ],
      "metadata": {
        "id": "B8xLOcMj1rVF"
      }
    },
    {
      "cell_type": "code",
      "source": [
        "import primesieve, math\n",
        "def is_square(n):\n",
        "  s = int(math.sqrt(n))\n",
        "  return s*s == n\n",
        "it = primesieve.Iterator()\n",
        "it.skipto(2**28-1)\n",
        "p = it.next_prime()\n",
        "while p < 2**30-1:\n",
        "  if is_square(5*p*p+4) or is_square(5*p*p-4):\n",
        "    print('¡¡ Got one !! ', p, 'is a Fibonacci prime!')\n",
        "  p = it.next_prime()"
      ],
      "metadata": {
        "id": "G_Rj1FgQ1sly",
        "colab": {
          "base_uri": "https://localhost:8080/"
        },
        "outputId": "fe880413-bd0b-4b9c-9e3a-9f4b38c10ca1"
      },
      "execution_count": 35,
      "outputs": [
        {
          "output_type": "stream",
          "name": "stdout",
          "text": [
            "¡¡ Got one !!  433494437 is a Fibonacci prime!\n"
          ]
        }
      ]
    },
    {
      "cell_type": "code",
      "source": [],
      "metadata": {
        "id": "nhgxO25KSI4N"
      },
      "execution_count": null,
      "outputs": []
    }
  ]
}
