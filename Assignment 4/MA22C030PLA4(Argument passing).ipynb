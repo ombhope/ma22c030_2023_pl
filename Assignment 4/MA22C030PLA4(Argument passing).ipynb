{
  "nbformat": 4,
  "nbformat_minor": 0,
  "metadata": {
    "colab": {
      "provenance": [],
      "authorship_tag": "ABX9TyOnmDgw2UXqldYFXaFLFHio",
      "include_colab_link": true
    },
    "kernelspec": {
      "name": "python3",
      "display_name": "Python 3"
    },
    "language_info": {
      "name": "python"
    }
  },
  "cells": [
    {
      "cell_type": "markdown",
      "metadata": {
        "id": "view-in-github",
        "colab_type": "text"
      },
      "source": [
        "<a href=\"https://colab.research.google.com/github/ombhope/ma22c030_2023_pl/blob/main/Assignment%204/MA22C030PLA41.ipynb\" target=\"_parent\"><img src=\"https://colab.research.google.com/assets/colab-badge.svg\" alt=\"Open In Colab\"/></a>"
      ]
    },
    {
      "cell_type": "code",
      "execution_count": 2,
      "metadata": {
        "id": "lFpy9h92L_yC"
      },
      "outputs": [],
      "source": [
        "import numpy as np\n",
        "import matplotlib.pyplot as plt\n",
        "from math import sin, cos"
      ]
    },
    {
      "cell_type": "code",
      "source": [
        "# Define a function to double the values\n",
        "def double_values(val):\n",
        "    return val * 2"
      ],
      "metadata": {
        "id": "U_5r8l9TMOFb"
      },
      "execution_count": 5,
      "outputs": []
    },
    {
      "cell_type": "code",
      "source": [
        "# Initialize a list\n",
        "my_list = [2, 5, 1]\n",
        "print('Original list:', my_list)"
      ],
      "metadata": {
        "colab": {
          "base_uri": "https://localhost:8080/"
        },
        "id": "hVtxkjx_NZJ1",
        "outputId": "d1390774-621d-40c7-8b8b-8dda9d600224"
      },
      "execution_count": 6,
      "outputs": [
        {
          "output_type": "stream",
          "name": "stdout",
          "text": [
            "Original list: [2, 5, 1]\n"
          ]
        }
      ]
    },
    {
      "cell_type": "code",
      "source": [
        "# Double the values in the list\n",
        "my_list = list(map(double_values, my_list))\n",
        "print('Doubled list:', my_list)\n"
      ],
      "metadata": {
        "colab": {
          "base_uri": "https://localhost:8080/"
        },
        "id": "-XXO7FY0NiMO",
        "outputId": "18f5afe0-0e8a-47f5-d640-dcfbba451fb6"
      },
      "execution_count": 9,
      "outputs": [
        {
          "output_type": "stream",
          "name": "stdout",
          "text": [
            "Doubled list: [8, 20, 4]\n"
          ]
        }
      ]
    },
    {
      "cell_type": "code",
      "source": [
        "# Convert the list to a NumPy array\n",
        "my_array = np.array(my_list)\n",
        "print('NumPy array:', my_array)"
      ],
      "metadata": {
        "colab": {
          "base_uri": "https://localhost:8080/"
        },
        "id": "WgeR4lHONknW",
        "outputId": "b8181e46-4547-49d9-8041-2d56012240c5"
      },
      "execution_count": 10,
      "outputs": [
        {
          "output_type": "stream",
          "name": "stdout",
          "text": [
            "NumPy array: [ 8 20  4]\n"
          ]
        }
      ]
    },
    {
      "cell_type": "code",
      "source": [],
      "metadata": {
        "id": "NiaVk4WqNnn0"
      },
      "execution_count": null,
      "outputs": []
    }
  ]
}
