{
  "nbformat": 4,
  "nbformat_minor": 0,
  "metadata": {
    "colab": {
      "provenance": [],
      "include_colab_link": true
    },
    "kernelspec": {
      "name": "python3",
      "display_name": "Python 3"
    },
    "language_info": {
      "name": "python"
    }
  },
  "cells": [
    {
      "cell_type": "markdown",
      "metadata": {
        "id": "view-in-github",
        "colab_type": "text"
      },
      "source": [
        "<a href=\"https://colab.research.google.com/github/ombhope/ma22c030_2023_pl/blob/main/Assignment%204/MA22C030PLA4_2.ipynb\" target=\"_parent\"><img src=\"https://colab.research.google.com/assets/colab-badge.svg\" alt=\"Open In Colab\"/></a>"
      ]
    },
    {
      "cell_type": "code",
      "execution_count": 1,
      "metadata": {
        "id": "Ax7YPBDi2FbV"
      },
      "outputs": [],
      "source": [
        "import numpy as np\n",
        "import math"
      ]
    },
    {
      "cell_type": "code",
      "source": [
        "A = [0.1, 1.3, 0.4, 0.5] # list\n",
        "a = np.array(A) # numpy array\n",
        "type(a), type(A)"
      ],
      "metadata": {
        "colab": {
          "base_uri": "https://localhost:8080/"
        },
        "id": "HNAPvS8M2MlI",
        "outputId": "cb1d69c9-28ac-4383-90f7-f5a8c876af28"
      },
      "execution_count": 2,
      "outputs": [
        {
          "output_type": "execute_result",
          "data": {
            "text/plain": [
              "(numpy.ndarray, list)"
            ]
          },
          "metadata": {},
          "execution_count": 2
        }
      ]
    },
    {
      "cell_type": "code",
      "source": [
        "a.dtype # a's common element type (A.dtype is undefined!)"
      ],
      "metadata": {
        "colab": {
          "base_uri": "https://localhost:8080/"
        },
        "id": "vzBd_Rzd2SAg",
        "outputId": "0da292b8-f6b8-465c-b55b-9c9048820c26"
      },
      "execution_count": 3,
      "outputs": [
        {
          "output_type": "execute_result",
          "data": {
            "text/plain": [
              "dtype('float64')"
            ]
          },
          "metadata": {},
          "execution_count": 3
        }
      ]
    },
    {
      "cell_type": "code",
      "source": [
        "2*a"
      ],
      "metadata": {
        "colab": {
          "base_uri": "https://localhost:8080/"
        },
        "id": "mmq0sS-m2W1h",
        "outputId": "f001ec8e-7138-43ae-9dd9-042c7ca7cf82"
      },
      "execution_count": 4,
      "outputs": [
        {
          "output_type": "execute_result",
          "data": {
            "text/plain": [
              "array([0.2, 2.6, 0.8, 1. ])"
            ]
          },
          "metadata": {},
          "execution_count": 4
        }
      ]
    },
    {
      "cell_type": "code",
      "source": [
        "2*A"
      ],
      "metadata": {
        "id": "KsXqJuAg2gUe",
        "colab": {
          "base_uri": "https://localhost:8080/"
        },
        "outputId": "cfcbe6c0-faed-4c50-d4f5-c99c87b02323"
      },
      "execution_count": 5,
      "outputs": [
        {
          "output_type": "execute_result",
          "data": {
            "text/plain": [
              "[0.1, 1.3, 0.4, 0.5, 0.1, 1.3, 0.4, 0.5]"
            ]
          },
          "metadata": {},
          "execution_count": 5
        }
      ]
    },
    {
      "cell_type": "code",
      "source": [
        "n = 100000\n",
        "x = np.linspace(0, 2*np.pi, n)"
      ],
      "metadata": {
        "id": "Hl1A2I6i2kUs"
      },
      "execution_count": 6,
      "outputs": []
    },
    {
      "cell_type": "code",
      "source": [
        "# list comprehension\n",
        "%timeit y = [math.sin(x[i]) * math.exp(-x[i]) for i in range(n)]\n",
        "# use numpy ufuncs\n",
        "%timeit y = np.sin(x) * np.exp(-x)"
      ],
      "metadata": {
        "colab": {
          "base_uri": "https://localhost:8080/"
        },
        "id": "p__cUvvx2p5r",
        "outputId": "015967aa-73af-4ba0-f8a5-47d9f4905612"
      },
      "execution_count": 7,
      "outputs": [
        {
          "output_type": "stream",
          "name": "stdout",
          "text": [
            "79.6 ms ± 25.8 ms per loop (mean ± std. dev. of 7 runs, 10 loops each)\n",
            "2.62 ms ± 99.4 µs per loop (mean ± std. dev. of 7 runs, 100 loops each)\n"
          ]
        }
      ]
    },
    {
      "cell_type": "code",
      "source": [
        "def f(v): # apply f to one scalar value v\n",
        "  return math.sin(v) * math.exp(-v)"
      ],
      "metadata": {
        "id": "sqEYpGzo28Ac"
      },
      "execution_count": 8,
      "outputs": []
    },
    {
      "cell_type": "code",
      "source": [
        "vectorizedf = map(f, x) # apply same f to a vector of values x"
      ],
      "metadata": {
        "id": "u79JD4JU3Lj7"
      },
      "execution_count": 9,
      "outputs": []
    },
    {
      "cell_type": "code",
      "source": [
        "F = np.vectorize(f) # F can be applied to a array x"
      ],
      "metadata": {
        "id": "v2OGN7uM3PFe"
      },
      "execution_count": 10,
      "outputs": []
    },
    {
      "cell_type": "code",
      "source": [
        "# use map\n",
        "%timeit y = list(map(f, x))\n",
        "# use numpy's vectorize\n",
        "%timeit y = F(x)\n",
        "# use numpy's ufunc\n",
        "%timeit y = np.sin(x) * np.exp(-x)"
      ],
      "metadata": {
        "colab": {
          "base_uri": "https://localhost:8080/"
        },
        "id": "Q5DJHxg93t21",
        "outputId": "21325a5a-3ea8-4722-da95-291e7fb79923"
      },
      "execution_count": 11,
      "outputs": [
        {
          "output_type": "stream",
          "name": "stdout",
          "text": [
            "38.8 ms ± 1.01 ms per loop (mean ± std. dev. of 7 runs, 10 loops each)\n",
            "38.8 ms ± 1.46 ms per loop (mean ± std. dev. of 7 runs, 10 loops each)\n",
            "3.47 ms ± 1.07 ms per loop (mean ± std. dev. of 7 runs, 100 loops each)\n"
          ]
        }
      ]
    },
    {
      "cell_type": "code",
      "source": [
        "%timeit for x in range(1000000): x**3\n",
        "%timeit for x in np.arange(1000000): x**3"
      ],
      "metadata": {
        "colab": {
          "base_uri": "https://localhost:8080/"
        },
        "id": "8RI5PX3A305q",
        "outputId": "6c5b5df0-c549-4b5d-ec38-c4af2bba0ee0"
      },
      "execution_count": 12,
      "outputs": [
        {
          "output_type": "stream",
          "name": "stdout",
          "text": [
            "527 ms ± 120 ms per loop (mean ± std. dev. of 7 runs, 1 loop each)\n",
            "150 ms ± 46.1 ms per loop (mean ± std. dev. of 7 runs, 10 loops each)\n"
          ]
        }
      ]
    },
    {
      "cell_type": "code",
      "source": [
        "a = np.random.randint(0,9,5)\n",
        "a"
      ],
      "metadata": {
        "colab": {
          "base_uri": "https://localhost:8080/"
        },
        "id": "zt60_yDr4YUA",
        "outputId": "d06eaefd-c91d-4600-c336-8862affb20b8"
      },
      "execution_count": 13,
      "outputs": [
        {
          "output_type": "execute_result",
          "data": {
            "text/plain": [
              "array([7, 7, 2, 0, 8])"
            ]
          },
          "metadata": {},
          "execution_count": 13
        }
      ]
    },
    {
      "cell_type": "code",
      "source": [
        "a[::]"
      ],
      "metadata": {
        "colab": {
          "base_uri": "https://localhost:8080/"
        },
        "id": "7a1nlhmy4f31",
        "outputId": "fc435126-1629-40a0-adbf-448baef91bd9"
      },
      "execution_count": 14,
      "outputs": [
        {
          "output_type": "execute_result",
          "data": {
            "text/plain": [
              "array([7, 7, 2, 0, 8])"
            ]
          },
          "metadata": {},
          "execution_count": 14
        }
      ]
    },
    {
      "cell_type": "code",
      "source": [
        "a[-3:]"
      ],
      "metadata": {
        "colab": {
          "base_uri": "https://localhost:8080/"
        },
        "id": "XxMQkFHW4hxZ",
        "outputId": "b0b9fd70-062d-4bc1-f89d-b472755818dd"
      },
      "execution_count": 15,
      "outputs": [
        {
          "output_type": "execute_result",
          "data": {
            "text/plain": [
              "array([2, 0, 8])"
            ]
          },
          "metadata": {},
          "execution_count": 15
        }
      ]
    },
    {
      "cell_type": "code",
      "source": [
        "a[-1], a[len(a)-1]"
      ],
      "metadata": {
        "colab": {
          "base_uri": "https://localhost:8080/"
        },
        "id": "jZ6rX-VF4pFu",
        "outputId": "b4121e0d-2425-4c92-b489-994c3caf687c"
      },
      "execution_count": 16,
      "outputs": [
        {
          "output_type": "execute_result",
          "data": {
            "text/plain": [
              "(8, 8)"
            ]
          },
          "metadata": {},
          "execution_count": 16
        }
      ]
    },
    {
      "cell_type": "code",
      "source": [
        "a[-4:-1:2]"
      ],
      "metadata": {
        "colab": {
          "base_uri": "https://localhost:8080/"
        },
        "id": "bkJMxdkx4rXn",
        "outputId": "8ca46096-ef3c-4452-9bd9-30197d192256"
      },
      "execution_count": 17,
      "outputs": [
        {
          "output_type": "execute_result",
          "data": {
            "text/plain": [
              "array([7, 0])"
            ]
          },
          "metadata": {},
          "execution_count": 17
        }
      ]
    },
    {
      "cell_type": "code",
      "source": [
        "slice = range(-4,-1,2) # Think of b:e:s specification as a range.\n",
        "a[-4:-1:2], a[slice] # In older versions, a[slice] may not work\n",
        "# but will work with slice=arange(-4,-1,2)"
      ],
      "metadata": {
        "colab": {
          "base_uri": "https://localhost:8080/"
        },
        "id": "5siBHVTK4uS1",
        "outputId": "3adbdedd-b93b-4385-bf17-406cb613f5af"
      },
      "execution_count": 18,
      "outputs": [
        {
          "output_type": "execute_result",
          "data": {
            "text/plain": [
              "(array([7, 0]), array([7, 0]))"
            ]
          },
          "metadata": {},
          "execution_count": 18
        }
      ]
    },
    {
      "cell_type": "code",
      "source": [
        "a = np.array([1,2,3])\n",
        "b = np.array([3,4,5,6])"
      ],
      "metadata": {
        "id": "1QgG5AkP44jj"
      },
      "execution_count": 19,
      "outputs": []
    },
    {
      "cell_type": "code",
      "source": [
        "a = b\n",
        "a[0] = 1\n",
        "a"
      ],
      "metadata": {
        "colab": {
          "base_uri": "https://localhost:8080/"
        },
        "id": "1B_UiEum49oq",
        "outputId": "8e1b4ae7-16d1-4e53-8a85-d28d804f2cbb"
      },
      "execution_count": 20,
      "outputs": [
        {
          "output_type": "execute_result",
          "data": {
            "text/plain": [
              "array([1, 4, 5, 6])"
            ]
          },
          "metadata": {},
          "execution_count": 20
        }
      ]
    },
    {
      "cell_type": "code",
      "source": [
        "b"
      ],
      "metadata": {
        "colab": {
          "base_uri": "https://localhost:8080/"
        },
        "id": "9A_eslVm5AhY",
        "outputId": "69badbb6-466b-401a-8b78-71ce874fdcff"
      },
      "execution_count": 21,
      "outputs": [
        {
          "output_type": "execute_result",
          "data": {
            "text/plain": [
              "array([1, 4, 5, 6])"
            ]
          },
          "metadata": {},
          "execution_count": 21
        }
      ]
    },
    {
      "cell_type": "code",
      "source": [
        "a = np.array([1,2,3]) # This is Object1 and \"a\" is a name for it.\n",
        "b = np.array([3,4,5,6]) # This is Object2 and \"b\" is a name for it."
      ],
      "metadata": {
        "id": "2tXYEMda5Mnf"
      },
      "execution_count": 22,
      "outputs": []
    },
    {
      "cell_type": "code",
      "source": [],
      "metadata": {
        "id": "2KcjGeEfVYO8"
      },
      "execution_count": null,
      "outputs": []
    },
    {
      "cell_type": "code",
      "source": [
        "id(a), id(b)"
      ],
      "metadata": {
        "colab": {
          "base_uri": "https://localhost:8080/"
        },
        "id": "RshxjVh25Xy4",
        "outputId": "7ed58057-4fd2-4831-bfe4-751e307d7bfb"
      },
      "execution_count": 23,
      "outputs": [
        {
          "output_type": "execute_result",
          "data": {
            "text/plain": [
              "(134155226881200, 134155226880624)"
            ]
          },
          "metadata": {},
          "execution_count": 23
        }
      ]
    },
    {
      "cell_type": "code",
      "source": [
        "a = b # a is no longer a name for Object1, it is now a name for Object2."
      ],
      "metadata": {
        "id": "gOgU0k3n5aHg"
      },
      "execution_count": 24,
      "outputs": []
    },
    {
      "cell_type": "code",
      "source": [
        "id(a), id(b)"
      ],
      "metadata": {
        "colab": {
          "base_uri": "https://localhost:8080/"
        },
        "id": "lUA328ml5c6S",
        "outputId": "1fc8a4fa-c881-4c2f-c2a6-7054d5224394"
      },
      "execution_count": 25,
      "outputs": [
        {
          "output_type": "execute_result",
          "data": {
            "text/plain": [
              "(134155226880624, 134155226880624)"
            ]
          },
          "metadata": {},
          "execution_count": 25
        }
      ]
    },
    {
      "cell_type": "code",
      "source": [
        "a = np.array([1,2,3]) # Object1\n",
        "b = np.array([3,4,5,6]) # Object2\n",
        "a = b.copy() # Copies Object2, and binds a to the copy\n",
        "a[0] = 2 # Only the copied (new) object is changed"
      ],
      "metadata": {
        "id": "9dihHkWu5lMm"
      },
      "execution_count": 26,
      "outputs": []
    },
    {
      "cell_type": "code",
      "source": [
        "a, b"
      ],
      "metadata": {
        "colab": {
          "base_uri": "https://localhost:8080/"
        },
        "id": "VRY8wBoX5qWJ",
        "outputId": "5ff02a40-5b0a-43f1-f417-3fba0a806420"
      },
      "execution_count": 27,
      "outputs": [
        {
          "output_type": "execute_result",
          "data": {
            "text/plain": [
              "(array([2, 4, 5, 6]), array([3, 4, 5, 6]))"
            ]
          },
          "metadata": {},
          "execution_count": 27
        }
      ]
    },
    {
      "cell_type": "code",
      "source": [
        "Amat = [[1,2],\n",
        "        [3,4]]\n",
        "Amat"
      ],
      "metadata": {
        "colab": {
          "base_uri": "https://localhost:8080/"
        },
        "id": "kxlkoaWO5zSp",
        "outputId": "e6b75d92-1b01-43d9-e0f4-1e6cc5b4343b"
      },
      "execution_count": 28,
      "outputs": [
        {
          "output_type": "execute_result",
          "data": {
            "text/plain": [
              "[[1, 2], [3, 4]]"
            ]
          },
          "metadata": {},
          "execution_count": 28
        }
      ]
    },
    {
      "cell_type": "code",
      "source": [
        "amat = np.array(Amat)\n",
        "amat"
      ],
      "metadata": {
        "colab": {
          "base_uri": "https://localhost:8080/"
        },
        "id": "V6rnULLF55Zx",
        "outputId": "e2034855-1cc9-46b7-b35f-99bd66dacb74"
      },
      "execution_count": 29,
      "outputs": [
        {
          "output_type": "execute_result",
          "data": {
            "text/plain": [
              "array([[1, 2],\n",
              "       [3, 4]])"
            ]
          },
          "metadata": {},
          "execution_count": 29
        }
      ]
    },
    {
      "cell_type": "code",
      "source": [
        "type(A), type(a)"
      ],
      "metadata": {
        "colab": {
          "base_uri": "https://localhost:8080/"
        },
        "id": "ZBlx6E9j5-XR",
        "outputId": "ee11457c-e53e-4f84-c2db-89cb24c6d9e6"
      },
      "execution_count": 30,
      "outputs": [
        {
          "output_type": "execute_result",
          "data": {
            "text/plain": [
              "(list, numpy.ndarray)"
            ]
          },
          "metadata": {},
          "execution_count": 30
        }
      ]
    },
    {
      "cell_type": "code",
      "source": [
        "2*Amat"
      ],
      "metadata": {
        "id": "R4uX5rYW6HCs",
        "colab": {
          "base_uri": "https://localhost:8080/"
        },
        "outputId": "8a7958ed-0e00-49de-8f0c-6722e1389bc0"
      },
      "execution_count": 31,
      "outputs": [
        {
          "output_type": "execute_result",
          "data": {
            "text/plain": [
              "[[1, 2], [3, 4], [1, 2], [3, 4]]"
            ]
          },
          "metadata": {},
          "execution_count": 31
        }
      ]
    },
    {
      "cell_type": "code",
      "source": [
        "2*amat"
      ],
      "metadata": {
        "colab": {
          "base_uri": "https://localhost:8080/"
        },
        "id": "94f0GbAX6MxT",
        "outputId": "e3f10983-ef07-47d2-9ebe-ce106a771cd1"
      },
      "execution_count": 32,
      "outputs": [
        {
          "output_type": "execute_result",
          "data": {
            "text/plain": [
              "array([[2, 4],\n",
              "       [6, 8]])"
            ]
          },
          "metadata": {},
          "execution_count": 32
        }
      ]
    },
    {
      "cell_type": "code",
      "source": [
        "amat * amat"
      ],
      "metadata": {
        "colab": {
          "base_uri": "https://localhost:8080/"
        },
        "id": "XZZhPZmk6SXD",
        "outputId": "aee63aef-d2c8-4540-fe03-2d9de206fd4a"
      },
      "execution_count": 33,
      "outputs": [
        {
          "output_type": "execute_result",
          "data": {
            "text/plain": [
              "array([[ 1,  4],\n",
              "       [ 9, 16]])"
            ]
          },
          "metadata": {},
          "execution_count": 33
        }
      ]
    },
    {
      "cell_type": "code",
      "source": [
        "import sys\n",
        "print(sys.version) # check if you have version >= 3.5 before trying @"
      ],
      "metadata": {
        "colab": {
          "base_uri": "https://localhost:8080/"
        },
        "id": "HKoDSqjp6S6-",
        "outputId": "cb48f149-8185-4c3e-f740-bcc3244f62fa"
      },
      "execution_count": 34,
      "outputs": [
        {
          "output_type": "stream",
          "name": "stdout",
          "text": [
            "3.10.12 (main, Jun 11 2023, 05:26:28) [GCC 11.4.0]\n"
          ]
        }
      ]
    },
    {
      "cell_type": "code",
      "source": [
        "amat @ amat"
      ],
      "metadata": {
        "colab": {
          "base_uri": "https://localhost:8080/"
        },
        "id": "FVm7wneP667I",
        "outputId": "e612ac7b-98d5-4435-ee44-a0a95771ffda"
      },
      "execution_count": 35,
      "outputs": [
        {
          "output_type": "execute_result",
          "data": {
            "text/plain": [
              "array([[ 7, 10],\n",
              "       [15, 22]])"
            ]
          },
          "metadata": {},
          "execution_count": 35
        }
      ]
    },
    {
      "cell_type": "code",
      "source": [
        "np.dot(amat, amat) # dot(A,B) = matrix A multiplied by matrix B"
      ],
      "metadata": {
        "colab": {
          "base_uri": "https://localhost:8080/"
        },
        "id": "2WN2kb8o6-Tb",
        "outputId": "d542a74b-4fc9-4b1c-9284-8079f1376986"
      },
      "execution_count": 36,
      "outputs": [
        {
          "output_type": "execute_result",
          "data": {
            "text/plain": [
              "array([[ 7, 10],\n",
              "       [15, 22]])"
            ]
          },
          "metadata": {},
          "execution_count": 36
        }
      ]
    },
    {
      "cell_type": "code",
      "source": [
        "amat.dot(amat)"
      ],
      "metadata": {
        "colab": {
          "base_uri": "https://localhost:8080/"
        },
        "id": "wFNr1dju7AW_",
        "outputId": "4dda38ad-ceeb-469d-9b61-b79f56846dd7"
      },
      "execution_count": 37,
      "outputs": [
        {
          "output_type": "execute_result",
          "data": {
            "text/plain": [
              "array([[ 7, 10],\n",
              "       [15, 22]])"
            ]
          },
          "metadata": {},
          "execution_count": 37
        }
      ]
    },
    {
      "cell_type": "code",
      "source": [
        "amat**2 # not equal to matrix power !!"
      ],
      "metadata": {
        "id": "qACpCmwS7C-n",
        "colab": {
          "base_uri": "https://localhost:8080/"
        },
        "outputId": "1e8df551-4250-48b9-acf4-0687273e50b6"
      },
      "execution_count": 38,
      "outputs": [
        {
          "output_type": "execute_result",
          "data": {
            "text/plain": [
              "array([[ 1,  4],\n",
              "       [ 9, 16]])"
            ]
          },
          "metadata": {},
          "execution_count": 38
        }
      ]
    },
    {
      "cell_type": "code",
      "source": [
        "np.linalg.matrix_power(amat, 2)"
      ],
      "metadata": {
        "colab": {
          "base_uri": "https://localhost:8080/"
        },
        "id": "QCyuXKzt7Fg8",
        "outputId": "e49ec611-4fcf-446a-b66f-ff397a29c94e"
      },
      "execution_count": 39,
      "outputs": [
        {
          "output_type": "execute_result",
          "data": {
            "text/plain": [
              "array([[ 7, 10],\n",
              "       [15, 22]])"
            ]
          },
          "metadata": {},
          "execution_count": 39
        }
      ]
    },
    {
      "cell_type": "code",
      "source": [
        "A = np.array([[7, 8, 5, 1], [2, 5, 5, 2], [9, 6, 8, 9]])\n",
        "A"
      ],
      "metadata": {
        "id": "lOG5mkEE7Ox5",
        "colab": {
          "base_uri": "https://localhost:8080/"
        },
        "outputId": "8a335748-7eed-48e0-e2fd-c9cacaf0563d"
      },
      "execution_count": 40,
      "outputs": [
        {
          "output_type": "execute_result",
          "data": {
            "text/plain": [
              "array([[7, 8, 5, 1],\n",
              "       [2, 5, 5, 2],\n",
              "       [9, 6, 8, 9]])"
            ]
          },
          "metadata": {},
          "execution_count": 40
        }
      ]
    },
    {
      "cell_type": "code",
      "source": [
        "A[1, :], A[:, 2]"
      ],
      "metadata": {
        "id": "rsRD0z597Tj5",
        "colab": {
          "base_uri": "https://localhost:8080/"
        },
        "outputId": "65c573ff-27fe-4cb4-c77f-a964917a906c"
      },
      "execution_count": 41,
      "outputs": [
        {
          "output_type": "execute_result",
          "data": {
            "text/plain": [
              "(array([2, 5, 5, 2]), array([5, 5, 8]))"
            ]
          },
          "metadata": {},
          "execution_count": 41
        }
      ]
    },
    {
      "cell_type": "code",
      "source": [
        "A[:3:2, :3]"
      ],
      "metadata": {
        "colab": {
          "base_uri": "https://localhost:8080/"
        },
        "id": "b2kpgMTD7VUE",
        "outputId": "2bdeeaf4-43ec-4914-8a23-48e7854d4c1b"
      },
      "execution_count": 42,
      "outputs": [
        {
          "output_type": "execute_result",
          "data": {
            "text/plain": [
              "array([[7, 8, 5],\n",
              "       [9, 6, 8]])"
            ]
          },
          "metadata": {},
          "execution_count": 42
        }
      ]
    },
    {
      "cell_type": "code",
      "source": [
        "M = np.array([[7, 8, 5, 1], [2, 5, 5, 2], [9, 6, 8, 9]])\n",
        "M"
      ],
      "metadata": {
        "id": "7wBwKQ2u7dht",
        "colab": {
          "base_uri": "https://localhost:8080/"
        },
        "outputId": "c724f5dc-7640-4217-efb9-8bd090f33e46"
      },
      "execution_count": 43,
      "outputs": [
        {
          "output_type": "execute_result",
          "data": {
            "text/plain": [
              "array([[7, 8, 5, 1],\n",
              "       [2, 5, 5, 2],\n",
              "       [9, 6, 8, 9]])"
            ]
          },
          "metadata": {},
          "execution_count": 43
        }
      ]
    },
    {
      "cell_type": "code",
      "source": [
        "M.reshape(2, 6) # Just a different view of the same data"
      ],
      "metadata": {
        "id": "MZ7UPmdT7lrf",
        "colab": {
          "base_uri": "https://localhost:8080/"
        },
        "outputId": "758e3875-6aa2-4ac1-f724-493f1f92a6bd"
      },
      "execution_count": 44,
      "outputs": [
        {
          "output_type": "execute_result",
          "data": {
            "text/plain": [
              "array([[7, 8, 5, 1, 2, 5],\n",
              "       [5, 2, 9, 6, 8, 9]])"
            ]
          },
          "metadata": {},
          "execution_count": 44
        }
      ]
    },
    {
      "cell_type": "code",
      "source": [
        "M.ravel() # The 1D data of M in row-major ordering"
      ],
      "metadata": {
        "id": "CvvWrdNK7oTt",
        "colab": {
          "base_uri": "https://localhost:8080/"
        },
        "outputId": "9269c03d-a85e-4865-cd2e-d1ebebcbd212"
      },
      "execution_count": 45,
      "outputs": [
        {
          "output_type": "execute_result",
          "data": {
            "text/plain": [
              "array([7, 8, 5, 1, 2, 5, 5, 2, 9, 6, 8, 9])"
            ]
          },
          "metadata": {},
          "execution_count": 45
        }
      ]
    },
    {
      "cell_type": "code",
      "source": [
        "A = np.array(M, order='F')\n",
        "A"
      ],
      "metadata": {
        "id": "0NnAydgj7qPf",
        "colab": {
          "base_uri": "https://localhost:8080/"
        },
        "outputId": "d636be8d-5253-4def-9b13-1dc6da484e11"
      },
      "execution_count": 46,
      "outputs": [
        {
          "output_type": "execute_result",
          "data": {
            "text/plain": [
              "array([[7, 8, 5, 1],\n",
              "       [2, 5, 5, 2],\n",
              "       [9, 6, 8, 9]])"
            ]
          },
          "metadata": {},
          "execution_count": 46
        }
      ]
    },
    {
      "cell_type": "code",
      "source": [
        "A.ravel(order='A') # A's internal ordering is Fortran style"
      ],
      "metadata": {
        "id": "biSgt_7l7sqc",
        "colab": {
          "base_uri": "https://localhost:8080/"
        },
        "outputId": "7b8b0a63-8cbe-4bc5-e9dc-bb26d63cb358"
      },
      "execution_count": 47,
      "outputs": [
        {
          "output_type": "execute_result",
          "data": {
            "text/plain": [
              "array([7, 2, 9, 8, 5, 6, 5, 5, 8, 1, 2, 9])"
            ]
          },
          "metadata": {},
          "execution_count": 47
        }
      ]
    },
    {
      "cell_type": "code",
      "source": [
        "N = np.arange(25).reshape(5,5)\n",
        "N"
      ],
      "metadata": {
        "id": "I1dK2R_R7-Bl",
        "colab": {
          "base_uri": "https://localhost:8080/"
        },
        "outputId": "e949a452-e02f-47f4-d35e-38bd18652b08"
      },
      "execution_count": 48,
      "outputs": [
        {
          "output_type": "execute_result",
          "data": {
            "text/plain": [
              "array([[ 0,  1,  2,  3,  4],\n",
              "       [ 5,  6,  7,  8,  9],\n",
              "       [10, 11, 12, 13, 14],\n",
              "       [15, 16, 17, 18, 19],\n",
              "       [20, 21, 22, 23, 24]])"
            ]
          },
          "metadata": {},
          "execution_count": 48
        }
      ]
    },
    {
      "cell_type": "code",
      "source": [
        "mask = (N>7) & (N<18)\n",
        "mask"
      ],
      "metadata": {
        "id": "56Nf4mo78DVj",
        "colab": {
          "base_uri": "https://localhost:8080/"
        },
        "outputId": "42006e1c-dc7a-4fb9-e46b-100493e471f4"
      },
      "execution_count": 49,
      "outputs": [
        {
          "output_type": "execute_result",
          "data": {
            "text/plain": [
              "array([[False, False, False, False, False],\n",
              "       [False, False, False,  True,  True],\n",
              "       [ True,  True,  True,  True,  True],\n",
              "       [ True,  True,  True, False, False],\n",
              "       [False, False, False, False, False]])"
            ]
          },
          "metadata": {},
          "execution_count": 49
        }
      ]
    },
    {
      "cell_type": "code",
      "source": [
        "N[mask]"
      ],
      "metadata": {
        "id": "GaHGjnwY8FhP",
        "colab": {
          "base_uri": "https://localhost:8080/"
        },
        "outputId": "0c3e3ab7-9bd3-4040-8c0f-8743da628a04"
      },
      "execution_count": 50,
      "outputs": [
        {
          "output_type": "execute_result",
          "data": {
            "text/plain": [
              "array([ 8,  9, 10, 11, 12, 13, 14, 15, 16, 17])"
            ]
          },
          "metadata": {},
          "execution_count": 50
        }
      ]
    },
    {
      "cell_type": "code",
      "source": [
        "i, j = np.where(mask) # Returns i and j indices where mask[i,j] is True.\n",
        "i, j # 1st True value of mask is at i[0],j[0],\n",
        "# 2nd True value of mask is at i[1],j[1], etc."
      ],
      "metadata": {
        "id": "j0XfgHNP8QIR",
        "colab": {
          "base_uri": "https://localhost:8080/"
        },
        "outputId": "1541eb0c-7a2b-40b4-b15e-ab41fc4b8a24"
      },
      "execution_count": 51,
      "outputs": [
        {
          "output_type": "execute_result",
          "data": {
            "text/plain": [
              "(array([1, 1, 2, 2, 2, 2, 2, 3, 3, 3]), array([3, 4, 0, 1, 2, 3, 4, 0, 1, 2]))"
            ]
          },
          "metadata": {},
          "execution_count": 51
        }
      ]
    },
    {
      "cell_type": "code",
      "source": [
        "data = np.random.randint(low=0, high=10, size=30) # 1D array"
      ],
      "metadata": {
        "id": "JWG9bYN-8XV2"
      },
      "execution_count": 52,
      "outputs": []
    },
    {
      "cell_type": "code",
      "source": [
        "T2 = np.reshape(data, (6, 5)) # 2D array\n",
        "T2"
      ],
      "metadata": {
        "id": "lESgVJaV8bvS",
        "colab": {
          "base_uri": "https://localhost:8080/"
        },
        "outputId": "fcca6a6f-058d-414f-8db8-b5657897dea6"
      },
      "execution_count": 53,
      "outputs": [
        {
          "output_type": "execute_result",
          "data": {
            "text/plain": [
              "array([[3, 8, 1, 6, 5],\n",
              "       [5, 2, 3, 5, 5],\n",
              "       [9, 2, 7, 1, 8],\n",
              "       [2, 6, 0, 1, 3],\n",
              "       [6, 6, 1, 6, 4],\n",
              "       [8, 7, 0, 8, 9]])"
            ]
          },
          "metadata": {},
          "execution_count": 53
        }
      ]
    },
    {
      "cell_type": "code",
      "source": [
        "T3 = np.reshape(data, (2, 3, 5)) # 3D array\n",
        "T3"
      ],
      "metadata": {
        "id": "60qYujRY8fZm",
        "colab": {
          "base_uri": "https://localhost:8080/"
        },
        "outputId": "34fc9d4d-85e4-4125-a27a-c109b436766f"
      },
      "execution_count": 54,
      "outputs": [
        {
          "output_type": "execute_result",
          "data": {
            "text/plain": [
              "array([[[3, 8, 1, 6, 5],\n",
              "        [5, 2, 3, 5, 5],\n",
              "        [9, 2, 7, 1, 8]],\n",
              "\n",
              "       [[2, 6, 0, 1, 3],\n",
              "        [6, 6, 1, 6, 4],\n",
              "        [8, 7, 0, 8, 9]]])"
            ]
          },
          "metadata": {},
          "execution_count": 54
        }
      ]
    },
    {
      "cell_type": "code",
      "source": [
        "print('T3 is a ', T3.ndim, 'dimensional array of shape ', T3.shape)\n",
        "print('T2 is a ', T2.ndim, 'dimensional array of shape ', T2.shape)\n",
        "print('data is a ', data.ndim, 'dimensional array of shape ', data.shape)"
      ],
      "metadata": {
        "id": "G1hzBHDh8iib",
        "colab": {
          "base_uri": "https://localhost:8080/"
        },
        "outputId": "c3bb454d-62c9-4dc7-9da8-f8c7ca4ca06d"
      },
      "execution_count": 55,
      "outputs": [
        {
          "output_type": "stream",
          "name": "stdout",
          "text": [
            "T3 is a  3 dimensional array of shape  (2, 3, 5)\n",
            "T2 is a  2 dimensional array of shape  (6, 5)\n",
            "data is a  1 dimensional array of shape  (30,)\n"
          ]
        }
      ]
    },
    {
      "cell_type": "code",
      "source": [],
      "metadata": {
        "id": "o2pSwbx7WACw"
      },
      "execution_count": null,
      "outputs": []
    }
  ]
}