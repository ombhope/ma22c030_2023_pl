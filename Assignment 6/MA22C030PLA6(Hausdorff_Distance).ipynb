{
  "nbformat": 4,
  "nbformat_minor": 0,
  "metadata": {
    "colab": {
      "provenance": [],
      "authorship_tag": "ABX9TyMT2rH5aS9bGB2DRd/OBbur",
      "include_colab_link": true
    },
    "kernelspec": {
      "name": "python3",
      "display_name": "Python 3"
    },
    "language_info": {
      "name": "python"
    }
  },
  "cells": [
    {
      "cell_type": "markdown",
      "metadata": {
        "id": "view-in-github",
        "colab_type": "text"
      },
      "source": [
        "<a href=\"https://colab.research.google.com/github/ombhope/ma22c030_2023_pl/blob/main/Assignment%206/MA22C030PLA6(Hausdorff_Distance).ipynb\" target=\"_parent\"><img src=\"https://colab.research.google.com/assets/colab-badge.svg\" alt=\"Open In Colab\"/></a>"
      ]
    },
    {
      "cell_type": "code",
      "execution_count": 11,
      "metadata": {
        "id": "ymDxDagIesvI"
      },
      "outputs": [],
      "source": [
        "import numpy as np\n",
        "import math"
      ]
    },
    {
      "cell_type": "code",
      "source": [
        "# Generate two sets of random points A and B\n",
        "A = np.random.rand(5, 2)\n",
        "print(\"A =\", A)\n",
        "print(\"\\n\\n\")\n",
        "B = np.random.rand(7, 2)\n",
        "print(\"B =\", B)\n",
        "\n"
      ],
      "metadata": {
        "colab": {
          "base_uri": "https://localhost:8080/"
        },
        "id": "SgPOkvHSkHjy",
        "outputId": "595972e5-58ca-4784-cb83-93ae7626c91c"
      },
      "execution_count": 12,
      "outputs": [
        {
          "output_type": "stream",
          "name": "stdout",
          "text": [
            "A = [[0.37057263 0.91357379]\n",
            " [0.51295776 0.5473059 ]\n",
            " [0.93342311 0.79011771]\n",
            " [0.71715472 0.00129525]\n",
            " [0.2645824  0.52242332]]\n",
            "\n",
            "\n",
            "\n",
            "B = [[0.72497419 0.29099237]\n",
            " [0.24678788 0.13110219]\n",
            " [0.07827739 0.68569104]\n",
            " [0.10830947 0.62413731]\n",
            " [0.34004411 0.56804155]\n",
            " [0.82099768 0.99998902]\n",
            " [0.38918194 0.65536787]]\n"
          ]
        }
      ]
    },
    {
      "cell_type": "code",
      "source": [
        "def calculate_euclidean_distance(point1, point2):\n",
        "    # Calculate the 2-norm of the vector (point1 - point2)\n",
        "    distance_sum = 0\n",
        "    for i in range(2):\n",
        "        distance_sum += pow(point1[i] - point2[i], 2)\n",
        "    return math.sqrt(distance_sum)"
      ],
      "metadata": {
        "id": "opoq6sjSkUJR"
      },
      "execution_count": 13,
      "outputs": []
    },
    {
      "cell_type": "code",
      "source": [
        "def compute_hausdorff_distance(set_A, set_B):\n",
        "    max_hausdorff_distance = 0\n",
        "\n",
        "    for point_a in set_A:\n",
        "        min_distance_a_to_B = np.inf\n",
        "        for point_b in set_B:\n",
        "            distance = calculate_euclidean_distance(point_a, point_b)\n",
        "            if distance < min_distance_a_to_B:\n",
        "                min_distance_a_to_B = distance\n",
        "\n",
        "        if min_distance_a_to_B > max_hausdorff_distance:\n",
        "            max_hausdorff_distance = min_distance_a_to_B\n",
        "\n",
        "    for point_b in set_B:\n",
        "        min_distance_b_to_A = np.inf\n",
        "        for point_a in set_A:\n",
        "            distance = calculate_euclidean_distance(point_b, point_a)\n",
        "            if distance < min_distance_b_to_A:\n",
        "                min_distance_b_to_A = distance\n",
        "\n",
        "        if min_distance_b_to_A > max_hausdorff_distance:\n",
        "            max_hausdorff_distance = min_distance_b_to_A\n",
        "\n",
        "    return max_hausdorff_distance"
      ],
      "metadata": {
        "id": "XpHXMAm_kX-A"
      },
      "execution_count": 14,
      "outputs": []
    },
    {
      "cell_type": "code",
      "source": [
        "# Calculate the Hausdorff distance between sets A and B\n",
        "hausdorff_distance_AB = compute_hausdorff_distance(A, B)\n",
        "\n",
        "print(\"Hausdorff distance between A and B:\", hausdorff_distance_AB)"
      ],
      "metadata": {
        "colab": {
          "base_uri": "https://localhost:8080/"
        },
        "id": "t9QdJxFukpO4",
        "outputId": "f5eb7be0-aaa8-4532-f55b-734e0fddc26b"
      },
      "execution_count": 15,
      "outputs": [
        {
          "output_type": "stream",
          "name": "stdout",
          "text": [
            "Hausdorff distance between A and B: 0.39172550660066596\n"
          ]
        }
      ]
    },
    {
      "cell_type": "code",
      "source": [],
      "metadata": {
        "id": "g19hNo9TkulQ"
      },
      "execution_count": 15,
      "outputs": []
    }
  ]
}