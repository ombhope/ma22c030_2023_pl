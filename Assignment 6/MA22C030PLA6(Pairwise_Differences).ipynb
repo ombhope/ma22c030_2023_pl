{
  "nbformat": 4,
  "nbformat_minor": 0,
  "metadata": {
    "colab": {
      "provenance": [],
      "authorship_tag": "ABX9TyMz2uUjteHTlBBbHmOO452h",
      "include_colab_link": true
    },
    "kernelspec": {
      "name": "python3",
      "display_name": "Python 3"
    },
    "language_info": {
      "name": "python"
    }
  },
  "cells": [
    {
      "cell_type": "markdown",
      "metadata": {
        "id": "view-in-github",
        "colab_type": "text"
      },
      "source": [
        "<a href=\"https://colab.research.google.com/github/ombhope/ma22c030_2023_pl/blob/main/Assignment%206/MA22C030PLA6(Pairwise_Differences).ipynb\" target=\"_parent\"><img src=\"https://colab.research.google.com/assets/colab-badge.svg\" alt=\"Open In Colab\"/></a>"
      ]
    },
    {
      "cell_type": "code",
      "execution_count": 2,
      "metadata": {
        "id": "Lb5g120GqSho"
      },
      "outputs": [],
      "source": [
        "import numpy as np"
      ]
    },
    {
      "cell_type": "code",
      "source": [
        "# Generate a 1D NumPy array 'data' of length 5 filled with random numbers between 0 and 1.\n",
        "data = np.random.rand(5)\n",
        "print(\"data =\", data)"
      ],
      "metadata": {
        "colab": {
          "base_uri": "https://localhost:8080/"
        },
        "id": "44nSb9oFqaO6",
        "outputId": "a814d6b0-f87f-4bf6-9f14-4b0d80544fd6"
      },
      "execution_count": 3,
      "outputs": [
        {
          "output_type": "stream",
          "name": "stdout",
          "text": [
            "data = [0.11814511 0.59037772 0.03822136 0.01135431 0.20017033]\n"
          ]
        }
      ]
    },
    {
      "cell_type": "code",
      "source": [
        "# Calculate the pairwise differences between elements of 'data' to create a 2D array 'diff_matrix'.\n",
        "diff_matrix = np.subtract.outer(data, data)\n",
        "print(diff_matrix)"
      ],
      "metadata": {
        "colab": {
          "base_uri": "https://localhost:8080/"
        },
        "id": "xe1HstqZqrUf",
        "outputId": "d0dc38d9-a0ed-4020-bf60-9c15fcc99379"
      },
      "execution_count": 4,
      "outputs": [
        {
          "output_type": "stream",
          "name": "stdout",
          "text": [
            "[[ 0.         -0.4722326   0.07992375  0.1067908  -0.08202521]\n",
            " [ 0.4722326   0.          0.55215636  0.57902341  0.39020739]\n",
            " [-0.07992375 -0.55215636  0.          0.02686705 -0.16194896]\n",
            " [-0.1067908  -0.57902341 -0.02686705  0.         -0.18881601]\n",
            " [ 0.08202521 -0.39020739  0.16194896  0.18881601  0.        ]]\n"
          ]
        }
      ]
    },
    {
      "cell_type": "code",
      "source": [
        "\n",
        "# Extended version using loops to calculate the differences and populate a 2D array 'result'.\n",
        "result = np.zeros((5, 5))\n",
        "for i in range(5):\n",
        "    for j in range(5):\n",
        "        result[i][j] = data[i] - data[j]\n",
        "\n",
        "print(result)"
      ],
      "metadata": {
        "colab": {
          "base_uri": "https://localhost:8080/"
        },
        "id": "rEW370ujq3x3",
        "outputId": "3e2c063a-4877-4d3b-df43-f58130de840b"
      },
      "execution_count": 7,
      "outputs": [
        {
          "output_type": "stream",
          "name": "stdout",
          "text": [
            "[[ 0.         -0.4722326   0.07992375  0.1067908  -0.08202521]\n",
            " [ 0.4722326   0.          0.55215636  0.57902341  0.39020739]\n",
            " [-0.07992375 -0.55215636  0.          0.02686705 -0.16194896]\n",
            " [-0.1067908  -0.57902341 -0.02686705  0.         -0.18881601]\n",
            " [ 0.08202521 -0.39020739  0.16194896  0.18881601  0.        ]]\n"
          ]
        }
      ]
    },
    {
      "cell_type": "code",
      "source": [],
      "metadata": {
        "id": "zSK0WHgIrA2G"
      },
      "execution_count": 6,
      "outputs": []
    }
  ]
}