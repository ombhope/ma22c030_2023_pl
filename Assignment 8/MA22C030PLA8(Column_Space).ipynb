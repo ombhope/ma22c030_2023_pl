{
  "nbformat": 4,
  "nbformat_minor": 0,
  "metadata": {
    "colab": {
      "provenance": [],
      "authorship_tag": "ABX9TyMrDRt+REhnCOY/eG/qcm6W",
      "include_colab_link": true
    },
    "kernelspec": {
      "name": "python3",
      "display_name": "Python 3"
    },
    "language_info": {
      "name": "python"
    }
  },
  "cells": [
    {
      "cell_type": "markdown",
      "metadata": {
        "id": "view-in-github",
        "colab_type": "text"
      },
      "source": [
        "<a href=\"https://colab.research.google.com/github/ombhope/ma22c030_2023_pl/blob/main/Assignment%208/MA22C030PLA8(Column_Space).ipynb\" target=\"_parent\"><img src=\"https://colab.research.google.com/assets/colab-badge.svg\" alt=\"Open In Colab\"/></a>"
      ]
    },
    {
      "cell_type": "code",
      "execution_count": 1,
      "metadata": {
        "id": "kSUW1WN-9nXm"
      },
      "outputs": [],
      "source": [
        "import numpy as np\n",
        "from scipy.linalg import svd, qr"
      ]
    },
    {
      "cell_type": "code",
      "source": [
        "# Create a random matrix A\n",
        "A = np.array([[1, -2, 3, -3], [2, -4, 9, -2], [-3, 6, -9, 9]])"
      ],
      "metadata": {
        "id": "FYrncpPP9vAv"
      },
      "execution_count": 2,
      "outputs": []
    },
    {
      "cell_type": "code",
      "source": [
        "# Task 1: Singular Value Decomposition (SVD)\n",
        "U_svd, S_svd, VT_svd = svd(A)\n",
        "\n",
        "print(\"SVD U:\")\n",
        "print(U_svd)\n",
        "print(\"SVD U Transpose:\")\n",
        "print(U_svd.T)\n",
        "\n",
        "for i in range(3):\n",
        "    basis_svd = U_svd.T[i]\n",
        "    print(\"Basis SVD\", i + 1, \":\", basis_svd, end=\"  \")"
      ],
      "metadata": {
        "colab": {
          "base_uri": "https://localhost:8080/"
        },
        "id": "LNIrS6kc91P-",
        "outputId": "be5c2258-acc1-4344-97ec-c5c3abbc42bf"
      },
      "execution_count": 3,
      "outputs": [
        {
          "output_type": "stream",
          "name": "stdout",
          "text": [
            "SVD U:\n",
            "[[ 2.66235859e-01  1.70641342e-01  9.48683298e-01]\n",
            " [ 5.39615303e-01 -8.41911709e-01 -5.55111512e-17]\n",
            " [-7.98707576e-01 -5.11924025e-01  3.16227766e-01]]\n",
            "SVD U Transpose:\n",
            "[[ 2.66235859e-01  5.39615303e-01 -7.98707576e-01]\n",
            " [ 1.70641342e-01 -8.41911709e-01 -5.11924025e-01]\n",
            " [ 9.48683298e-01 -5.55111512e-17  3.16227766e-01]]\n",
            "Basis SVD 1 : [ 0.26623586  0.5396153  -0.79870758]  Basis SVD 2 : [ 0.17064134 -0.84191171 -0.51192403]  Basis SVD 3 : [ 9.48683298e-01 -5.55111512e-17  3.16227766e-01]  "
          ]
        }
      ]
    },
    {
      "cell_type": "code",
      "source": [
        "# QR Decomposition\n",
        "Q_qr, R_qr = qr(A)\n",
        "\n",
        "print(\"\\nQR Q:\")\n",
        "print(Q_qr)\n",
        "print(\"QR R:\")\n",
        "print(R_qr)\n",
        "\n",
        "for i in range(3):\n",
        "    basis_qr = Q_qr.T[i]\n",
        "    print(\"Basis QR\", i + 1, \":\", basis_qr, end=\"  \")"
      ],
      "metadata": {
        "colab": {
          "base_uri": "https://localhost:8080/"
        },
        "id": "IlPnPDob99NF",
        "outputId": "0f8cd9f7-1c68-4aa3-910a-4172e588770b"
      },
      "execution_count": 4,
      "outputs": [
        {
          "output_type": "stream",
          "name": "stdout",
          "text": [
            "\n",
            "QR Q:\n",
            "[[-0.26726124  0.95618289 -0.11952286]\n",
            " [-0.53452248 -0.04390192  0.84401323]\n",
            " [ 0.80178373  0.28945968  0.52283453]]\n",
            "QR R:\n",
            "[[-3.74165739e+00  7.48331477e+00 -1.28285396e+01  9.08688223e+00]\n",
            " [ 0.00000000e+00 -1.98602732e-15 -1.31705767e-01 -1.75607689e-01]\n",
            " [ 0.00000000e+00  0.00000000e+00  2.53203970e+00  3.37605293e+00]]\n",
            "Basis QR 1 : [-0.26726124 -0.53452248  0.80178373]  Basis QR 2 : [ 0.95618289 -0.04390192  0.28945968]  Basis QR 3 : [-0.11952286  0.84401323  0.52283453]  "
          ]
        }
      ]
    },
    {
      "cell_type": "code",
      "source": [
        "# Task 2: Verify if B1 and B2 span the same vector space\n",
        "aug_uq = np.vstack((U_svd, Q_qr))  # Stack U_svd and Q_qr vertically\n",
        "print(\"Augmented Matrix [U_svd, Q_qr]:\")\n",
        "print(aug_uq)\n",
        "\n",
        "rank_aug_uq = np.linalg.matrix_rank(aug_uq)\n",
        "print(\"Rank of [U_svd, Q_qr]:\", rank_aug_uq)"
      ],
      "metadata": {
        "colab": {
          "base_uri": "https://localhost:8080/"
        },
        "id": "usfBhRdA-B_p",
        "outputId": "fba2274c-de24-4701-a7de-e6474e95b596"
      },
      "execution_count": 5,
      "outputs": [
        {
          "output_type": "stream",
          "name": "stdout",
          "text": [
            "Augmented Matrix [U_svd, Q_qr]:\n",
            "[[ 2.66235859e-01  1.70641342e-01  9.48683298e-01]\n",
            " [ 5.39615303e-01 -8.41911709e-01 -5.55111512e-17]\n",
            " [-7.98707576e-01 -5.11924025e-01  3.16227766e-01]\n",
            " [-2.67261242e-01  9.56182887e-01 -1.19522861e-01]\n",
            " [-5.34522484e-01 -4.39019222e-02  8.44013232e-01]\n",
            " [ 8.01783726e-01  2.89459681e-01  5.22834534e-01]]\n",
            "Rank of [U_svd, Q_qr]: 3\n"
          ]
        }
      ]
    },
    {
      "cell_type": "code",
      "source": [
        "# Task 3: SVD and QR on a random matrix B\n",
        "B = np.random.rand(500, 500)\n"
      ],
      "metadata": {
        "id": "m60GlYFs-FuA"
      },
      "execution_count": 6,
      "outputs": []
    },
    {
      "cell_type": "code",
      "source": [
        "# SVD\n",
        "U_B, S_B, VT_B = svd(B)"
      ],
      "metadata": {
        "id": "vot5yxux-Iwb"
      },
      "execution_count": 7,
      "outputs": []
    },
    {
      "cell_type": "code",
      "source": [
        "# QR\n",
        "Q_B, R_B = qr(B)\n"
      ],
      "metadata": {
        "id": "Uvbm7lQO-K3Y"
      },
      "execution_count": 8,
      "outputs": []
    },
    {
      "cell_type": "code",
      "source": [
        "# Measure the execution time for SVD and QR\n",
        "import timeit\n"
      ],
      "metadata": {
        "id": "KwRS6480-OCY"
      },
      "execution_count": 9,
      "outputs": []
    },
    {
      "cell_type": "code",
      "source": [
        "print(\"Time taken for SVD:\")\n",
        "%timeit U_B, S_B, VT_B"
      ],
      "metadata": {
        "colab": {
          "base_uri": "https://localhost:8080/"
        },
        "id": "uMwhcrdN-QLj",
        "outputId": "c086d100-665c-4318-83c4-59f9c871ca05"
      },
      "execution_count": 10,
      "outputs": [
        {
          "output_type": "stream",
          "name": "stdout",
          "text": [
            "Time taken for SVD:\n",
            "47.7 ns ± 0.341 ns per loop (mean ± std. dev. of 7 runs, 10000000 loops each)\n"
          ]
        }
      ]
    },
    {
      "cell_type": "code",
      "source": [
        "print(\"Time taken for QR:\")\n",
        "%timeit Q_B, R_B"
      ],
      "metadata": {
        "colab": {
          "base_uri": "https://localhost:8080/"
        },
        "id": "C-0IBP6P-TJE",
        "outputId": "dea8ca9c-db0c-4c7b-d968-ffd7baa555fb"
      },
      "execution_count": 11,
      "outputs": [
        {
          "output_type": "stream",
          "name": "stdout",
          "text": [
            "Time taken for QR:\n",
            "46.1 ns ± 13.2 ns per loop (mean ± std. dev. of 7 runs, 10000000 loops each)\n"
          ]
        }
      ]
    },
    {
      "cell_type": "code",
      "source": [],
      "metadata": {
        "id": "q6Hqpr4n-WqC"
      },
      "execution_count": null,
      "outputs": []
    }
  ]
}