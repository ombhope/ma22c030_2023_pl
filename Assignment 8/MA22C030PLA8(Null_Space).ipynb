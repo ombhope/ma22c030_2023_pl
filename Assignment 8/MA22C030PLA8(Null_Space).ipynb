{
  "nbformat": 4,
  "nbformat_minor": 0,
  "metadata": {
    "colab": {
      "provenance": [],
      "authorship_tag": "ABX9TyONGmR2+gx6WpBoRIZIz47B",
      "include_colab_link": true
    },
    "kernelspec": {
      "name": "python3",
      "display_name": "Python 3"
    },
    "language_info": {
      "name": "python"
    }
  },
  "cells": [
    {
      "cell_type": "markdown",
      "metadata": {
        "id": "view-in-github",
        "colab_type": "text"
      },
      "source": [
        "<a href=\"https://colab.research.google.com/github/ombhope/ma22c030_2023_pl/blob/main/Assignment%208/MA22C030PLA8(Null_Space).ipynb\" target=\"_parent\"><img src=\"https://colab.research.google.com/assets/colab-badge.svg\" alt=\"Open In Colab\"/></a>"
      ]
    },
    {
      "cell_type": "code",
      "source": [
        "import numpy as np\n",
        "from scipy.linalg import svd, qr\n"
      ],
      "metadata": {
        "id": "nkWkPgiaAT9E"
      },
      "execution_count": 2,
      "outputs": []
    },
    {
      "cell_type": "code",
      "source": [
        "# Create a random matrix A\n",
        "A = np.array([[1, -2, 9, 5, 4], [1, -1, 6, 5, -3], [-2, 0, -6, 1, -2], [4, 1, 9, 1, -9]])\n"
      ],
      "metadata": {
        "id": "wZ67MaLwAW3j"
      },
      "execution_count": 3,
      "outputs": []
    },
    {
      "cell_type": "code",
      "source": [
        "# Task 1: Null space of A using SVD\n",
        "U_svd, S_svd, VT_svd = svd(A)"
      ],
      "metadata": {
        "id": "4rGagskDAZs9"
      },
      "execution_count": 4,
      "outputs": []
    },
    {
      "cell_type": "code",
      "source": [
        "VT_svd"
      ],
      "metadata": {
        "colab": {
          "base_uri": "https://localhost:8080/"
        },
        "id": "KL-52G99AcBO",
        "outputId": "1876314d-ba17-4d37-8fc6-ff1832f0e6f8"
      },
      "execution_count": 5,
      "outputs": [
        {
          "output_type": "execute_result",
          "data": {
            "text/plain": [
              "array([[ 0.24638127, -0.04503456,  0.8742475 ,  0.30107333, -0.28690474],\n",
              "       [-0.12991821, -0.20626881,  0.22905181,  0.27058334,  0.90271499],\n",
              "       [ 0.3027347 ,  0.2022255 ,  0.3015276 , -0.84037193,  0.26516538],\n",
              "       [-0.87219483,  0.3573579 ,  0.29073161, -0.14709627, -0.07354813],\n",
              "       [ 0.26466093,  0.8870317 , -0.08822031,  0.32905504,  0.16452752]])"
            ]
          },
          "metadata": {},
          "execution_count": 5
        }
      ]
    },
    {
      "cell_type": "code",
      "source": [
        "for i in range(4):\n",
        "    if rank_A + i <= 4:\n",
        "        print(\"b{}\".format(i + 1), VT_svd.T[:, rank_A + i], end=\" \")  # Basis vectors for null space\n",
        "        print(\"Ab{}=\".format(i + 1), A @ VT_svd.T[:, rank_A + i])  # Verify the basis vector"
      ],
      "metadata": {
        "colab": {
          "base_uri": "https://localhost:8080/"
        },
        "id": "SNS3M2huAf67",
        "outputId": "907bc229-1296-40b7-ee1a-d5156fb09ccf"
      },
      "execution_count": 6,
      "outputs": [
        {
          "output_type": "stream",
          "name": "stdout",
          "text": [
            "b1 [-0.87219483  0.3573579   0.29073161 -0.14709627 -0.07354813] Ab1= [-1.66533454e-15 -4.35762537e-15 -4.77395901e-15  2.02615702e-15]\n",
            "b2 [ 0.26466093  0.8870317  -0.08822031  0.32905504  0.16452752] Ab2= [ 8.88178420e-16  1.66533454e-16 -1.11022302e-15  5.55111512e-16]\n"
          ]
        }
      ]
    },
    {
      "cell_type": "code",
      "source": [
        "# Task 2: Null space of A using QR and SVD of R\n",
        "Q_qr, R_qr = qr(A)\n",
        "\n",
        "U_R, S_R, VT_R = svd(R_qr)\n",
        "\n",
        "rank_R = np.linalg.matrix_rank(R_qr)\n",
        "rank_R\n"
      ],
      "metadata": {
        "colab": {
          "base_uri": "https://localhost:8080/"
        },
        "id": "-zrOVqPDAj2i",
        "outputId": "2907c469-dbf7-4fad-88b2-8d5e414dad71"
      },
      "execution_count": 7,
      "outputs": [
        {
          "output_type": "execute_result",
          "data": {
            "text/plain": [
              "3"
            ]
          },
          "metadata": {},
          "execution_count": 7
        }
      ]
    },
    {
      "cell_type": "code",
      "source": [
        "for i in range(4):\n",
        "    if rank_A + i <= 4:\n",
        "        print(VT_R.T[:, rank_R + i], end=\" \")\n",
        "\n",
        "sq = np.array([[-0.82775801, -0.32212404, 0.27591934, -0.32853773, -0.16426886],\n",
        "               [0.38155721, -0.90042546, -0.12718574, -0.14824807, -0.07412404],\n",
        "               [-0.87219483, 0.3573579, 0.29073161, -0.14709627, -0.07354813],\n",
        "               [0.26466093, 0.8870317, -0.08822031, 0.32905504, 0.16452752]])\n",
        "\n",
        "sq\n",
        "\n",
        "rank_sq = np.linalg.matrix_rank(sq)\n",
        "rank_sq"
      ],
      "metadata": {
        "colab": {
          "base_uri": "https://localhost:8080/"
        },
        "id": "IuUWdki8At1Z",
        "outputId": "c24ef083-e947-4179-8e2c-c64cb1856cae"
      },
      "execution_count": 8,
      "outputs": [
        {
          "output_type": "stream",
          "name": "stdout",
          "text": [
            "[-0.82775801 -0.32212404  0.27591934 -0.32853773 -0.16426886] [ 0.38155721 -0.90042546 -0.12718574 -0.14824807 -0.07412404] "
          ]
        },
        {
          "output_type": "execute_result",
          "data": {
            "text/plain": [
              "4"
            ]
          },
          "metadata": {},
          "execution_count": 8
        }
      ]
    },
    {
      "cell_type": "code",
      "source": [],
      "metadata": {
        "id": "xrdLvis6AyMz"
      },
      "execution_count": null,
      "outputs": []
    }
  ]
}