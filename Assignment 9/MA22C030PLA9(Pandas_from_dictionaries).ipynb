{
  "nbformat": 4,
  "nbformat_minor": 0,
  "metadata": {
    "colab": {
      "provenance": [],
      "authorship_tag": "ABX9TyNcygEPbgOn1zRPqpYtZ7q1",
      "include_colab_link": true
    },
    "kernelspec": {
      "name": "python3",
      "display_name": "Python 3"
    },
    "language_info": {
      "name": "python"
    }
  },
  "cells": [
    {
      "cell_type": "markdown",
      "metadata": {
        "id": "view-in-github",
        "colab_type": "text"
      },
      "source": [
        "<a href=\"https://colab.research.google.com/github/ombhope/ma22c030_2023_pl/blob/main/Assignment%209/MA22C030PLA9(Pandas_from_dictionaries).ipynb\" target=\"_parent\"><img src=\"https://colab.research.google.com/assets/colab-badge.svg\" alt=\"Open In Colab\"/></a>"
      ]
    },
    {
      "cell_type": "code",
      "execution_count": 1,
      "metadata": {
        "colab": {
          "base_uri": "https://localhost:8080/"
        },
        "id": "50JpxjQcFltY",
        "outputId": "58e18a2f-447b-4a36-a142-6f8b4078eed7"
      },
      "outputs": [
        {
          "output_type": "stream",
          "name": "stdout",
          "text": [
            "5    x\n",
            "4    y\n",
            "6    z\n",
            "dtype: object\n",
            "    d3    d4\n",
            "x  7.0   NaN\n",
            "y  8.0   9.0\n",
            "z  NaN  10.0\n",
            "x    7.0\n",
            "y    8.0\n",
            "z    NaN\n",
            "Name: d3, dtype: float64\n",
            "x     NaN\n",
            "y     9.0\n",
            "z    10.0\n",
            "Name: d4, dtype: float64\n",
            "    d3   d4\n",
            "x  7.0  NaN\n",
            "y  8.0  9.0\n",
            "d3    7.0\n",
            "d4    NaN\n",
            "Name: x, dtype: float64\n",
            "7.0\n"
          ]
        }
      ],
      "source": [
        "import pandas as pd\n",
        "\n"
      ]
    },
    {
      "cell_type": "code",
      "source": [
        "# Create a new Series with different values and index\n",
        "d_new = {5: 'x', 4: 'y', 6: 'z'}\n",
        "pd_new = pd.Series(d_new)\n",
        "print(pd_new)\n",
        "\n"
      ],
      "metadata": {
        "colab": {
          "base_uri": "https://localhost:8080/"
        },
        "id": "5uqCDn-xFo8c",
        "outputId": "80075729-04e7-4c04-f57b-680a05a940f3"
      },
      "execution_count": 2,
      "outputs": [
        {
          "output_type": "stream",
          "name": "stdout",
          "text": [
            "5    x\n",
            "4    y\n",
            "6    z\n",
            "dtype: object\n"
          ]
        }
      ]
    },
    {
      "cell_type": "code",
      "source": [
        "# Sort the new Series by index\n",
        "pd_new = pd_new.sort_index()\n",
        "\n"
      ],
      "metadata": {
        "id": "weGTSQrjF5It"
      },
      "execution_count": 3,
      "outputs": []
    },
    {
      "cell_type": "code",
      "source": [
        "# Create two dictionaries for DataFrame creation\n",
        "d3 = {'x': 7, 'y': 8}\n",
        "d4 = {'y': 9, 'z': 10}\n",
        "dd_new = pd.DataFrame({'d3': d3, 'd4': d4})\n",
        "print(dd_new)\n",
        "\n"
      ],
      "metadata": {
        "colab": {
          "base_uri": "https://localhost:8080/"
        },
        "id": "Q01yBi6LF8aD",
        "outputId": "fadf8106-57ca-4d1d-b8d7-cc0782271dcb"
      },
      "execution_count": 4,
      "outputs": [
        {
          "output_type": "stream",
          "name": "stdout",
          "text": [
            "    d3    d4\n",
            "x  7.0   NaN\n",
            "y  8.0   9.0\n",
            "z  NaN  10.0\n"
          ]
        }
      ]
    },
    {
      "cell_type": "code",
      "source": [
        "# Access the 'd3' and 'd4' columns\n",
        "column_d3 = dd_new['d3']\n",
        "column_d4 = dd_new['d4']\n",
        "print(column_d3)\n",
        "print(column_d4)\n",
        "\n"
      ],
      "metadata": {
        "colab": {
          "base_uri": "https://localhost:8080/"
        },
        "id": "p4u9-D6zF_mk",
        "outputId": "c2c8ba5f-fd71-4197-c5d0-a8389d969104"
      },
      "execution_count": 5,
      "outputs": [
        {
          "output_type": "stream",
          "name": "stdout",
          "text": [
            "x    7.0\n",
            "y    8.0\n",
            "z    NaN\n",
            "Name: d3, dtype: float64\n",
            "x     NaN\n",
            "y     9.0\n",
            "z    10.0\n",
            "Name: d4, dtype: float64\n"
          ]
        }
      ]
    },
    {
      "cell_type": "code",
      "source": [
        "# Slice the first two rows of the DataFrame\n",
        "sliced_rows_new = dd_new.iloc[0:2]\n",
        "print(sliced_rows_new)\n",
        "\n"
      ],
      "metadata": {
        "colab": {
          "base_uri": "https://localhost:8080/"
        },
        "id": "vVxdW2SMGCu-",
        "outputId": "08616910-bf83-4aeb-ece6-91ec97ab5c0f"
      },
      "execution_count": 6,
      "outputs": [
        {
          "output_type": "stream",
          "name": "stdout",
          "text": [
            "    d3   d4\n",
            "x  7.0  NaN\n",
            "y  8.0  9.0\n"
          ]
        }
      ]
    },
    {
      "cell_type": "code",
      "source": [
        "# Access the first row of the DataFrame\n",
        "first_row_new = dd_new.iloc[0]\n",
        "\n"
      ],
      "metadata": {
        "id": "hSgZFOS7GFBd"
      },
      "execution_count": 7,
      "outputs": []
    },
    {
      "cell_type": "code",
      "source": [
        "# Access the value in the first row and 'd3' column\n",
        "value_new = dd_new.loc['x', 'd3']\n",
        "print(first_row_new)\n",
        "print(value_new)\n",
        "\n"
      ],
      "metadata": {
        "colab": {
          "base_uri": "https://localhost:8080/"
        },
        "id": "Kcqz6wIiGHO6",
        "outputId": "f7577a6e-0392-4ee1-e1ce-82545adcf4aa"
      },
      "execution_count": 8,
      "outputs": [
        {
          "output_type": "stream",
          "name": "stdout",
          "text": [
            "d3    7.0\n",
            "d4    NaN\n",
            "Name: x, dtype: float64\n",
            "7.0\n"
          ]
        }
      ]
    },
    {
      "cell_type": "code",
      "source": [
        "# Access the row with index 'x' using loc\n",
        "row_x = dd_new.loc['x']\n",
        "\n"
      ],
      "metadata": {
        "id": "gJYbte-rGJds"
      },
      "execution_count": 9,
      "outputs": []
    },
    {
      "cell_type": "code",
      "source": [
        "# Access the value of 'y' in the 'd4' column\n",
        "value_y_d4 = dd_new.loc['y', 'd4']\n",
        "\n"
      ],
      "metadata": {
        "id": "cn1DxNMRGLjZ"
      },
      "execution_count": 10,
      "outputs": []
    },
    {
      "cell_type": "code",
      "source": [
        "# Forward fill NaN values in the DataFrame\n",
        "forward_filled_dd_new = dd_new.fillna(method='ffill')\n",
        "\n"
      ],
      "metadata": {
        "id": "eiGXJXSGGNm8"
      },
      "execution_count": 11,
      "outputs": []
    },
    {
      "cell_type": "code",
      "source": [
        "# Backward fill NaN values in the DataFrame\n",
        "back_filled_dd_new = dd_new.fillna(method='bfill')\n",
        "\n"
      ],
      "metadata": {
        "id": "cRg85rwwGPHI"
      },
      "execution_count": 12,
      "outputs": []
    },
    {
      "cell_type": "code",
      "source": [
        "# Forward fill along the columns (axis=0)\n",
        "forward_filled_axis_0_new = dd_new.fillna(method='ffill', axis=0)\n",
        "\n"
      ],
      "metadata": {
        "id": "VeMeHMspGQg1"
      },
      "execution_count": 13,
      "outputs": []
    },
    {
      "cell_type": "code",
      "source": [
        "# Backward fill along the rows (axis=1)\n",
        "back_filled_axis_1_new = dd_new.fillna(method='bfill', axis=1)\n"
      ],
      "metadata": {
        "id": "MfKBmW1uGSjR"
      },
      "execution_count": 14,
      "outputs": []
    },
    {
      "cell_type": "code",
      "source": [],
      "metadata": {
        "id": "EP9d0hK-GTZt"
      },
      "execution_count": null,
      "outputs": []
    }
  ]
}