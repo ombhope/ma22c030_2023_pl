{
  "nbformat": 4,
  "nbformat_minor": 0,
  "metadata": {
    "colab": {
      "provenance": [],
      "authorship_tag": "ABX9TyM6lxNoL25q3zXSPSW66Ap3",
      "include_colab_link": true
    },
    "kernelspec": {
      "name": "python3",
      "display_name": "Python 3"
    },
    "language_info": {
      "name": "python"
    }
  },
  "cells": [
    {
      "cell_type": "markdown",
      "metadata": {
        "id": "view-in-github",
        "colab_type": "text"
      },
      "source": [
        "<a href=\"https://colab.research.google.com/github/ombhope/ma22c030_2023_pl/blob/main/Assignment2/MA22C030PLA2_1.ipynb\" target=\"_parent\"><img src=\"https://colab.research.google.com/assets/colab-badge.svg\" alt=\"Open In Colab\"/></a>"
      ]
    },
    {
      "cell_type": "code",
      "execution_count": 3,
      "metadata": {
        "colab": {
          "base_uri": "https://localhost:8080/"
        },
        "id": "3_gQMF055-jr",
        "outputId": "1e581bef-4179-4814-bbca-8557a97777ce"
      },
      "outputs": [
        {
          "output_type": "stream",
          "name": "stdout",
          "text": [
            "Enter the Initial Approximation a :- 1.6\n",
            "Enter the Initial Approximation b:- 0\n",
            "Define the input accuracy: 0.9\n",
            "Enter the maximum number of iteration: 5\n",
            "Iteration \t a \t \tb \t\tc \t\tf(c) \t |a - b|\n",
            "1 \t 1.6 \t 0.0 \t 0.8 \t 0.6967067093471654 \t 1.6\n",
            "\n",
            "The root of the given equation is: 0.8\n"
          ]
        }
      ],
      "source": [
        "import math\n",
        "\n",
        "def f(a):\n",
        "    return math.cos(a)\n",
        "\n",
        "a = float(input(\"Enter the Initial Approximation a :- \"))\n",
        "b = float(input(\"Enter the Initial Approximation b:- \"))\n",
        "eps = float(input(\"Define the input accuracy: \"))\n",
        "count = int(input(\"Enter the maximum number of iteration: \"))\n",
        "\n",
        "if f(a)*f(b) > 0 :\n",
        "  raise ValueError(\"Please enter valid values for a and b such that f(a)*f(b) <= 0\")\n",
        "\n",
        "if f(a) * f(b) <= 0:\n",
        "    iter = 1\n",
        "    print(\"Iteration \\t a \\t \\tb \\t\\tc \\t\\tf(c) \\t |a - b|\")\n",
        "    while abs(a - b) >= eps and iter <= count:\n",
        "        c = (a + b) / 2\n",
        "        print(iter, \"\\t\", a, \"\\t\", b, \"\\t\", c, \"\\t\", f(c), \"\\t\", abs(a - b))\n",
        "        if f(a) * f(c) > 0:\n",
        "            a = c\n",
        "        elif f(a) * f(c) < 0:\n",
        "            b = c\n",
        "        iter += 1\n",
        "    print(\"\\nThe root of the given equation is:\", c)\n",
        "else:\n",
        "    print(\"\\nThe root doesn't exist in the given interval.\")\n",
        "    a = float(input(\"Input the initial approximation for a: \"))"
      ]
    }
  ]
}
