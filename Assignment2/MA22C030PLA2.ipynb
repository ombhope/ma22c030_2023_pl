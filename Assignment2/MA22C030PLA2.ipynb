{
  "nbformat": 4,
  "nbformat_minor": 0,
  "metadata": {
    "colab": {
      "provenance": [],
      "authorship_tag": "ABX9TyPd627mOJWyYMAl+AA1vXmy",
      "include_colab_link": true
    },
    "kernelspec": {
      "name": "python3",
      "display_name": "Python 3"
    },
    "language_info": {
      "name": "python"
    }
  },
  "cells": [
    {
      "cell_type": "markdown",
      "metadata": {
        "id": "view-in-github",
        "colab_type": "text"
      },
      "source": [
        "<a href=\"https://colab.research.google.com/github/ombhope/ma22c030_2023_pl/blob/main/Assignment2/MA22C030PLA2.ipynb\" target=\"_parent\"><img src=\"https://colab.research.google.com/assets/colab-badge.svg\" alt=\"Open In Colab\"/></a>"
      ]
    },
    {
      "cell_type": "code",
      "execution_count": 2,
      "metadata": {
        "id": "EEPgm-4A35bR"
      },
      "outputs": [],
      "source": [
        "def D2(f, x, h=1E-6):\n",
        "\n",
        "  return (f(x-h) - 2*f(x) + f(x+h)) / (h*h)"
      ]
    },
    {
      "cell_type": "code",
      "source": [
        "from math import sin\n",
        "D2(sin, 0.2)"
      ],
      "metadata": {
        "colab": {
          "base_uri": "https://localhost:8080/"
        },
        "id": "oWVUPK-_4KxL",
        "outputId": "02a1c0a8-ad30-4320-c17b-3911c48dc88b"
      },
      "execution_count": 3,
      "outputs": [
        {
          "output_type": "execute_result",
          "data": {
            "text/plain": [
              "-0.19864665468105613"
            ]
          },
          "metadata": {},
          "execution_count": 3
        }
      ]
    },
    {
      "cell_type": "code",
      "source": [
        "-sin(0.2)"
      ],
      "metadata": {
        "colab": {
          "base_uri": "https://localhost:8080/"
        },
        "id": "tFQ2Icpz4Pwz",
        "outputId": "0bccda40-e3f2-49d5-fa67-8ebe7558207c"
      },
      "execution_count": 4,
      "outputs": [
        {
          "output_type": "execute_result",
          "data": {
            "text/plain": [
              "-0.19866933079506122"
            ]
          },
          "metadata": {},
          "execution_count": 4
        }
      ]
    },
    {
      "cell_type": "code",
      "source": [
        "def g(x):\n",
        "\n",
        "  return sin(2*x)\n",
        "  D2(g, 0.2)"
      ],
      "metadata": {
        "id": "mIJD4hq14UXj"
      },
      "execution_count": 6,
      "outputs": []
    },
    {
      "cell_type": "code",
      "source": [
        "D2(lambda x: sin(2*x), 0.2) # central diff approximation"
      ],
      "metadata": {
        "colab": {
          "base_uri": "https://localhost:8080/"
        },
        "id": "hLpzl9tO4avz",
        "outputId": "2a886eae-2eb0-4a15-e614-3a53ccce2ddd"
      },
      "execution_count": 7,
      "outputs": [
        {
          "output_type": "execute_result",
          "data": {
            "text/plain": [
              "-1.5576429035490946"
            ]
          },
          "metadata": {},
          "execution_count": 7
        }
      ]
    },
    {
      "cell_type": "code",
      "source": [
        "-4*sin(2* 0.2)"
      ],
      "metadata": {
        "colab": {
          "base_uri": "https://localhost:8080/"
        },
        "id": "3ofPLs1P4eQj",
        "outputId": "6b981b81-3a97-4cfb-effe-b29e4e54d1c5"
      },
      "execution_count": 8,
      "outputs": [
        {
          "output_type": "execute_result",
          "data": {
            "text/plain": [
              "-1.557673369234602"
            ]
          },
          "metadata": {},
          "execution_count": 8
        }
      ]
    },
    {
      "cell_type": "code",
      "source": [
        "print(' h D2 Result Error')\n",
        "for k in range(4,8):\n",
        "  h = 2**(-k)\n",
        "  d2g = D2(lambda x: x**-6, 1, h=h)\n",
        "  e = d2g - 42\n",
        "  print('%.0e %.5f %7.6f' %(h, d2g, e))"
      ],
      "metadata": {
        "colab": {
          "base_uri": "https://localhost:8080/"
        },
        "id": "HAEeaKi14jqb",
        "outputId": "225de909-e0c2-475a-a1b9-0a90d87cf766"
      },
      "execution_count": 15,
      "outputs": [
        {
          "output_type": "stream",
          "name": "stdout",
          "text": [
            " h D2 Result Error\n",
            "6e-02 42.99863 0.998629\n",
            "3e-02 42.24698 0.246977\n",
            "2e-02 42.06158 0.061579\n",
            "8e-03 42.01538 0.015384\n"
          ]
        }
      ]
    },
    {
      "cell_type": "code",
      "source": [
        "for k in range(1,14):\n",
        "  h = 10**(-k)\n",
        "  d2g = D2(lambda x: x**-6,1, h)\n",
        "  print('%.0e %18.5f' %(h, d2g))"
      ],
      "metadata": {
        "colab": {
          "base_uri": "https://localhost:8080/"
        },
        "id": "sPUdiyQU5L_M",
        "outputId": "ee046a3f-5fe3-4705-be53-eb9ac02e5b9c"
      },
      "execution_count": 16,
      "outputs": [
        {
          "output_type": "stream",
          "name": "stdout",
          "text": [
            "1e-01           44.61504\n",
            "1e-02           42.02521\n",
            "1e-03           42.00025\n",
            "1e-04           42.00000\n",
            "1e-05           41.99999\n",
            "1e-06           42.00074\n",
            "1e-07           41.94423\n",
            "1e-08           47.73959\n",
            "1e-09         -666.13381\n",
            "1e-10            0.00000\n",
            "1e-11            0.00000\n",
            "1e-12   -666133814.77509\n",
            "1e-13  66613381477.50939\n"
          ]
        }
      ]
    }
  ]
}