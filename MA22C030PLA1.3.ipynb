{
  "nbformat": 4,
  "nbformat_minor": 0,
  "metadata": {
    "colab": {
      "provenance": [],
      "include_colab_link": true
    },
    "kernelspec": {
      "name": "python3",
      "display_name": "Python 3"
    },
    "language_info": {
      "name": "python"
    }
  },
  "cells": [
    {
      "cell_type": "markdown",
      "metadata": {
        "id": "view-in-github",
        "colab_type": "text"
      },
      "source": [
        "<a href=\"https://colab.research.google.com/github/ombhope/ma22c030_2023_pl/blob/main/MA22C030PLA1.3.ipynb\" target=\"_parent\"><img src=\"https://colab.research.google.com/assets/colab-badge.svg\" alt=\"Open In Colab\"/></a>"
      ]
    },
    {
      "cell_type": "code",
      "source": [
        "pip install gitpython"
      ],
      "metadata": {
        "colab": {
          "base_uri": "https://localhost:8080/"
        },
        "id": "bLR_FZjoQhgG",
        "outputId": "5367b700-3d83-48e8-fb87-5e907b0d4751"
      },
      "execution_count": 11,
      "outputs": [
        {
          "output_type": "stream",
          "name": "stdout",
          "text": [
            "Requirement already satisfied: gitpython in /usr/local/lib/python3.10/dist-packages (3.1.32)\n",
            "Requirement already satisfied: gitdb<5,>=4.0.1 in /usr/local/lib/python3.10/dist-packages (from gitpython) (4.0.10)\n",
            "Requirement already satisfied: smmap<6,>=3.0.1 in /usr/local/lib/python3.10/dist-packages (from gitdb<5,>=4.0.1->gitpython) (5.0.0)\n"
          ]
        }
      ]
    },
    {
      "cell_type": "code",
      "source": [
        "from git import Repo"
      ],
      "metadata": {
        "id": "_NXDmWB4QbPH"
      },
      "execution_count": 12,
      "outputs": []
    },
    {
      "cell_type": "code",
      "source": [
        "help(Repo.clone_from)"
      ],
      "metadata": {
        "colab": {
          "base_uri": "https://localhost:8080/"
        },
        "id": "l-qnxrsnQ7Ay",
        "outputId": "c7a7dab6-6a47-4d01-924b-92f7d4eeb617"
      },
      "execution_count": 13,
      "outputs": [
        {
          "output_type": "stream",
          "name": "stdout",
          "text": [
            "Help on method clone_from in module git.repo.base:\n",
            "\n",
            "clone_from(url: 'PathLike', to_path: 'PathLike', progress: 'Optional[Callable]' = None, env: 'Optional[Mapping[str, str]]' = None, multi_options: 'Optional[List[str]]' = None, allow_unsafe_protocols: 'bool' = False, allow_unsafe_options: 'bool' = False, **kwargs: 'Any') -> \"'Repo'\" method of builtins.type instance\n",
            "    Create a clone from the given URL\n",
            "    \n",
            "    :param url: valid git url, see http://www.kernel.org/pub/software/scm/git/docs/git-clone.html#URLS\n",
            "    :param to_path: Path to which the repository should be cloned to\n",
            "    :param progress: See 'git.remote.Remote.push'.\n",
            "    :param env: Optional dictionary containing the desired environment variables.\n",
            "        Note: Provided variables will be used to update the execution\n",
            "        environment for `git`. If some variable is not specified in `env`\n",
            "        and is defined in `os.environ`, value from `os.environ` will be used.\n",
            "        If you want to unset some variable, consider providing empty string\n",
            "        as its value.\n",
            "    :param multi_options: See ``clone`` method\n",
            "    :param allow_unsafe_protocols: Allow unsafe protocols to be used, like ext\n",
            "    :param allow_unsafe_options: Allow unsafe options to be used, like --upload-pack\n",
            "    :param kwargs: see the ``clone`` method\n",
            "    :return: Repo instance pointing to the cloned directory\n",
            "\n"
          ]
        }
      ]
    },
    {
      "cell_type": "code",
      "source": [
        "help(Repo.__init__)"
      ],
      "metadata": {
        "id": "y2d4KNgnRCO1",
        "colab": {
          "base_uri": "https://localhost:8080/"
        },
        "outputId": "019216a7-f6ba-4ee6-e94c-b550c6afb5c0"
      },
      "execution_count": 14,
      "outputs": [
        {
          "output_type": "stream",
          "name": "stdout",
          "text": [
            "Help on function __init__ in module git.repo.base:\n",
            "\n",
            "__init__(self, path: 'Optional[PathLike]' = None, odbt: 'Type[LooseObjectDB]' = <class 'git.db.GitCmdObjectDB'>, search_parent_directories: 'bool' = False, expand_vars: 'bool' = True) -> 'None'\n",
            "    Create a new Repo instance\n",
            "    \n",
            "    :param path:\n",
            "        the path to either the root git directory or the bare git repo::\n",
            "    \n",
            "            repo = Repo(\"/Users/mtrier/Development/git-python\")\n",
            "            repo = Repo(\"/Users/mtrier/Development/git-python.git\")\n",
            "            repo = Repo(\"~/Development/git-python.git\")\n",
            "            repo = Repo(\"$REPOSITORIES/Development/git-python.git\")\n",
            "            repo = Repo(\"C:\\Users\\mtrier\\Development\\git-python\\.git\")\n",
            "    \n",
            "        - In *Cygwin*, path may be a `'cygdrive/...'` prefixed path.\n",
            "        - If it evaluates to false, :envvar:`GIT_DIR` is used, and if this also evals to false,\n",
            "          the current-directory is used.\n",
            "    :param odbt:\n",
            "        Object DataBase type - a type which is constructed by providing\n",
            "        the directory containing the database objects, i.e. .git/objects. It will\n",
            "        be used to access all object data\n",
            "    :param search_parent_directories:\n",
            "        if True, all parent directories will be searched for a valid repo as well.\n",
            "    \n",
            "        Please note that this was the default behaviour in older versions of GitPython,\n",
            "        which is considered a bug though.\n",
            "    :raise InvalidGitRepositoryError:\n",
            "    :raise NoSuchPathError:\n",
            "    :return: git.Repo\n",
            "\n"
          ]
        }
      ]
    },
    {
      "cell_type": "code",
      "source": [
        "coursefolder = '/Users/Jay/tmpdir/'"
      ],
      "metadata": {
        "id": "28Jut7kdQf_x"
      },
      "execution_count": 15,
      "outputs": []
    },
    {
      "cell_type": "code",
      "source": [
        "import os\n",
        "os.path.abspath(coursefolder)"
      ],
      "metadata": {
        "colab": {
          "base_uri": "https://localhost:8080/",
          "height": 35
        },
        "id": "E4kGf-R6H5jJ",
        "outputId": "f1ed0b32-7b52-44b2-95fc-fe666b37d0b7"
      },
      "execution_count": null,
      "outputs": [
        {
          "output_type": "execute_result",
          "data": {
            "text/plain": [
              "'/Users/Jay/tmpdir'"
            ],
            "application/vnd.google.colaboratory.intrinsic+json": {
              "type": "string"
            }
          },
          "metadata": {},
          "execution_count": 6
        }
      ]
    },
    {
      "cell_type": "code",
      "source": [
        "repodir = os.path.join(os.path.abspath(coursefolder), 'mth271content')\n",
        "repodir"
      ],
      "metadata": {
        "colab": {
          "base_uri": "https://localhost:8080/",
          "height": 35
        },
        "id": "hqwhv1vQIQpB",
        "outputId": "70f3fe52-04b5-4dae-8c3b-1970caee9fbd"
      },
      "execution_count": null,
      "outputs": [
        {
          "output_type": "execute_result",
          "data": {
            "text/plain": [
              "'/Users/Jay/tmpdir/mth271content'"
            ],
            "application/vnd.google.colaboratory.intrinsic+json": {
              "type": "string"
            }
          },
          "metadata": {},
          "execution_count": 7
        }
      ]
    },
    {
      "cell_type": "code",
      "source": [
        "os.path.isdir(repodir)"
      ],
      "metadata": {
        "colab": {
          "base_uri": "https://localhost:8080/"
        },
        "id": "MP73Q0J8I8z4",
        "outputId": "7101d93a-9168-4dce-8173-52b3fcce6abb"
      },
      "execution_count": null,
      "outputs": [
        {
          "output_type": "execute_result",
          "data": {
            "text/plain": [
              "False"
            ]
          },
          "metadata": {},
          "execution_count": 8
        }
      ]
    },
    {
      "cell_type": "code",
      "source": [
        "if os.path.isdir(repodir): # if repo exists, pull newest data\n",
        "  repo = Repo(repodir)\n",
        "  repo.remotes.origin.pull()\n",
        "else: # otherwise, clone from remote\n",
        "  repo = Repo.clone_from('https://github.com/jayggg/mth271content',repodir)"
      ],
      "metadata": {
        "id": "uAwECSJyJIZI"
      },
      "execution_count": null,
      "outputs": []
    },
    {
      "cell_type": "code",
      "source": [
        "repo.working_dir"
      ],
      "metadata": {
        "colab": {
          "base_uri": "https://localhost:8080/",
          "height": 35
        },
        "id": "b2w5Wr8zLmtJ",
        "outputId": "b6ee606f-27bf-4879-a5a4-cae85c5f243d"
      },
      "execution_count": null,
      "outputs": [
        {
          "output_type": "execute_result",
          "data": {
            "text/plain": [
              "'/Users/Jay/tmpdir/mth271content'"
            ],
            "application/vnd.google.colaboratory.intrinsic+json": {
              "type": "string"
            }
          },
          "metadata": {},
          "execution_count": 12
        }
      ]
    }
  ]
}