{
  "nbformat": 4,
  "nbformat_minor": 0,
  "metadata": {
    "colab": {
      "provenance": [],
      "authorship_tag": "ABX9TyPZnnXvoblJLcl6OTo3ALiF",
      "include_colab_link": true
    },
    "kernelspec": {
      "name": "python3",
      "display_name": "Python 3"
    },
    "language_info": {
      "name": "python"
    }
  },
  "cells": [
    {
      "cell_type": "markdown",
      "metadata": {
        "id": "view-in-github",
        "colab_type": "text"
      },
      "source": [
        "<a href=\"https://colab.research.google.com/github/ombhope/ma22c030_2023_pl/blob/main/MA22C030PLA1_E.ipynb\" target=\"_parent\"><img src=\"https://colab.research.google.com/assets/colab-badge.svg\" alt=\"Open In Colab\"/></a>"
      ]
    },
    {
      "cell_type": "code",
      "execution_count": null,
      "metadata": {
        "id": "UnRA9Vw7qT1g"
      },
      "outputs": [],
      "source": [
        "n=int(input(\"Enter power\"))\n",
        "x=int(input(\"Enter a positive integer upto which you want the sum\"))\n",
        "sum=0\n",
        "for i in range (1, x+1):\n",
        "  y=i**n\n",
        "  sum=sum+y\n",
        "\n",
        "print(sum)"
      ]
    }
  ]
}